{
 "cells": [
  {
   "cell_type": "code",
   "execution_count": null,
   "metadata": {},
   "outputs": [],
   "source": [
    "## script de récupération des données TMF et GFC sur GEE\n",
    "\n",
    "import yaml\n",
    "\n",
    "def charger_fichier_yaml(nom_fichier):\n",
    "    with open(nom_fichier, 'r') as fichier:\n",
    "        contenu = fichier.read()\n",
    "        donnees = yaml.safe_load(contenu)\n",
    "    return donnees\n",
    "\n",
    "# Exemple d'utilisation\n",
    "nom_fichier_yaml = 'N:/Informatique/SIG/Application/Jupyterhub/projets/catalogFiles/data_config_files/TMF_annualChangeCollection_v12022_Dec_2021.yaml'\n",
    "specs = charger_fichier_yaml(nom_fichier_yaml)\n",
    "print(specs)"
   ]
  },
  {
   "cell_type": "code",
   "execution_count": null,
   "metadata": {},
   "outputs": [],
   "source": [
    "%reload_ext autoreload\n",
    "%autoreload 2\n",
    "import ee\n",
    "import os\n",
    "import geemap\n",
    "import sys\n",
    "os.chdir('N:/Informatique/SIG/Etudes/2023/2309_QC_feux/Travail/Scripts/dynamic_land_cover/')\n",
    "import gee as gee\n",
    "import geopandas as gpd\n",
    "import matplotlib.pyplot as plt\n",
    "from rasterio.plot import show\n",
    "import pandas as pd\n",
    "from shapely.geometry import Point\n",
    "import numpy as np\n",
    "\n",
    "chemin_output_csv='N:/Informatique/SIG/Etudes/2023/2309_PI_protocole_Surfor_CEO/OUTPUT_TMF/Foret_non_Foret_2021/'\n",
    "data=pd.read_csv('N:/Informatique/SIG/Etudes/2023/2309_PI_protocole_Surfor_CEO/Scripts/Recup_TMF_GFC/point_foret_non_foret_2021_pixel.csv',delimiter=';')\n",
    "file_output='TMF_foret_non_foret_2021.csv'"
   ]
  },
  {
   "cell_type": "code",
   "execution_count": null,
   "metadata": {},
   "outputs": [],
   "source": [
    "ee.Initialize()\n",
    "\n",
    "geometry = [Point(xy) for xy in zip(data['lon'], data['lat'])]\n",
    "\n",
    "gdf = gpd.GeoDataFrame(data, geometry=geometry)\n",
    "gdf.set_crs(epsg=4326, inplace=True)\n",
    "\n",
    "### check gdf length, cela créer le nombre nécessaire de gdf tout en gardant la condition que la longueur du gdf ne doit pas dépasser 5000 lignes\n",
    "if len(gdf) > 5000:\n",
    "    num_chunks = int(np.ceil(len(gdf) / 5000))\n",
    "    gdfs = []\n",
    "    \n",
    "    for i in range(num_chunks):\n",
    "        start_idx = i * 5000\n",
    "        end_idx = start_idx + 5000\n",
    "        gdfs.append(gdf.iloc[start_idx:end_idx])\n",
    "else:\n",
    "    gdfs = [gdf]"
   ]
  },
  {
   "cell_type": "code",
   "execution_count": null,
   "metadata": {},
   "outputs": [],
   "source": [
    "output=[]\n",
    "for i, gdf in enumerate(gdfs, start=1):\n",
    "    # Appliquer la commande d'extraction des données\n",
    "    output_gdf = gee.extract_data(specs, gdf)\n",
    "    print(output_gdf)\n",
    "\n",
    "    output.append(output_gdf)\n",
    "output_results=pd.concat(output,axis=0)\n",
    "output_results.to_csv(chemin_output_csv+file_output)"
   ]
  }
 ],
 "metadata": {
  "kernelspec": {
   "display_name": "gis39",
   "language": "python",
   "name": "python3"
  },
  "language_info": {
   "codemirror_mode": {
    "name": "ipython",
    "version": 3
   },
   "file_extension": ".py",
   "mimetype": "text/x-python",
   "name": "python",
   "nbconvert_exporter": "python",
   "pygments_lexer": "ipython3",
   "version": "3.11.8"
  }
 },
 "nbformat": 4,
 "nbformat_minor": 2
}
