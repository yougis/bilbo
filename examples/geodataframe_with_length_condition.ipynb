{
 "cells": [
  {
   "cell_type": "code",
   "execution_count": 1,
   "metadata": {},
   "outputs": [
    {
     "name": "stdout",
     "output_type": "stream",
     "text": [
      "{'adaptingDataframe': {'changeType': {}, 'renameMap': {}, 'setValue': {'colName': 'id_indicateur', 'value': '??'}, 'toDrop': []}, 'bandName': '', 'catalogUri': 'None', 'confDb': {'chunksize': 1000, 'schema': 'surfor', 'strategy': 'append', 'tableName': 'faits_TMF_annualChangeCollection_v12022'}, 'confDims': {'isin_id_mesure': [3, 100], 'isin_id_spatial': ['None']}, 'confRaster': {'api': 'GEE', 'bandName': 'Dec2021', 'defaultValue': 255, 'masque': [1, 2, 3, 4, 5], 'outputValue': 'classifie', 'overlayHow': 'intersection', 'uri_image': 'projects/JRC/TMF/v1_2022/AnnualChanges/1ASIA'}, 'confTemporal': {'colName': 'annee', 'value': 2021, 'valuefromPixel': False}, 'dataName': 'TMF_annualChangeCollection_v12022_DEC_2021', 'epsg': 'EPSG:4326', 'keepList': ['classe', 'annee'], 'overlayHow': 'intersection', 'sourceType': 'Raster'}\n"
     ]
    }
   ],
   "source": [
    "## script de récupération des données TMF et GFC sur GEE\n",
    "\n",
    "import yaml\n",
    "\n",
    "def charger_fichier_yaml(nom_fichier):\n",
    "    with open(nom_fichier, 'r') as fichier:\n",
    "        contenu = fichier.read()\n",
    "        donnees = yaml.safe_load(contenu)\n",
    "    return donnees\n",
    "\n",
    "# Exemple d'utilisation\n",
    "nom_fichier_yaml = 'N:/Informatique/SIG/Application/Jupyterhub/projets/catalogFiles/data_config_files/TMF_annualChangeCollection_v12022_Dec_2021.yaml'\n",
    "specs = charger_fichier_yaml(nom_fichier_yaml)\n",
    "print(specs)"
   ]
  },
  {
   "cell_type": "code",
   "execution_count": 2,
   "metadata": {},
   "outputs": [
    {
     "name": "stdout",
     "output_type": "stream",
     "text": [
      "gee Imported\n"
     ]
    }
   ],
   "source": [
    "%reload_ext autoreload\n",
    "%autoreload 2\n",
    "import ee\n",
    "import os\n",
    "import geemap\n",
    "import sys\n",
    "os.chdir('N:/Informatique/SIG/Etudes/2023/2309_QC_feux/Travail/Scripts/dynamic_land_cover/')\n",
    "import gee as gee\n",
    "import geopandas as gpd\n",
    "import matplotlib.pyplot as plt\n",
    "from rasterio.plot import show\n",
    "import pandas as pd\n",
    "from shapely.geometry import Point\n",
    "import numpy as np\n",
    "\n",
    "chemin_output_csv='N:/Informatique/SIG/Etudes/2023/2309_PI_protocole_Surfor_CEO/OUTPUT_TMF/Foret_non_Foret_2021/'\n",
    "data=pd.read_csv('N:/Informatique/SIG/Etudes/2023/2309_PI_protocole_Surfor_CEO/Scripts/Recup_TMF_GFC/point_foret_non_foret_2021_pixel.csv',delimiter=';')\n",
    "file_output='TMF_foret_non_foret_2021.csv'"
   ]
  },
  {
   "cell_type": "code",
   "execution_count": 3,
   "metadata": {},
   "outputs": [
    {
     "data": {
      "text/html": [
       "\n",
       "            <style>\n",
       "                .geemap-dark {\n",
       "                    --jp-widgets-color: white;\n",
       "                    --jp-widgets-label-color: white;\n",
       "                    --jp-ui-font-color1: white;\n",
       "                    --jp-layout-color2: #454545;\n",
       "                    background-color: #383838;\n",
       "                }\n",
       "                    \n",
       "                .geemap-dark .jupyter-button {\n",
       "                    --jp-layout-color3: #383838;\n",
       "                }\n",
       "                \n",
       "                .geemap-colab {\n",
       "                    background-color: var(--colab-primary-surface-color, white);\n",
       "                }\n",
       "                    \n",
       "                .geemap-colab .jupyter-button {\n",
       "                    --jp-layout-color3: var(--colab-primary-surface-color, white);\n",
       "                }\n",
       "            </style>\n",
       "            "
      ],
      "text/plain": [
       "<IPython.core.display.HTML object>"
      ]
     },
     "metadata": {},
     "output_type": "display_data"
    }
   ],
   "source": [
    "ee.Initialize()\n",
    "\n",
    "geometry = [Point(xy) for xy in zip(data['lon'], data['lat'])]\n",
    "\n",
    "gdf = gpd.GeoDataFrame(data, geometry=geometry)\n",
    "gdf.set_crs(epsg=4326, inplace=True)\n",
    "\n",
    "### check gdf length, cela créer le nombre nécessaire de gdf tout en gardant la condition que la longueur du gdf ne doit pas dépasser 5000 lignes\n",
    "if len(gdf) > 5000:\n",
    "    num_chunks = int(np.ceil(len(gdf) / 5000))\n",
    "    gdfs = []\n",
    "    \n",
    "    for i in range(num_chunks):\n",
    "        start_idx = i * 5000\n",
    "        end_idx = start_idx + 5000\n",
    "        gdfs.append(gdf.iloc[start_idx:end_idx])\n",
    "else:\n",
    "    gdfs = [gdf]"
   ]
  },
  {
   "cell_type": "code",
   "execution_count": 4,
   "metadata": {},
   "outputs": [
    {
     "data": {
      "text/html": [
       "\n",
       "            <style>\n",
       "                .geemap-dark {\n",
       "                    --jp-widgets-color: white;\n",
       "                    --jp-widgets-label-color: white;\n",
       "                    --jp-ui-font-color1: white;\n",
       "                    --jp-layout-color2: #454545;\n",
       "                    background-color: #383838;\n",
       "                }\n",
       "                    \n",
       "                .geemap-dark .jupyter-button {\n",
       "                    --jp-layout-color3: #383838;\n",
       "                }\n",
       "                \n",
       "                .geemap-colab {\n",
       "                    background-color: var(--colab-primary-surface-color, white);\n",
       "                }\n",
       "                    \n",
       "                .geemap-colab .jupyter-button {\n",
       "                    --jp-layout-color3: var(--colab-primary-surface-color, white);\n",
       "                }\n",
       "            </style>\n",
       "            "
      ],
      "text/plain": [
       "<IPython.core.display.HTML object>"
      ]
     },
     "metadata": {},
     "output_type": "display_data"
    },
    {
     "name": "stdout",
     "output_type": "stream",
     "text": [
      "Geometry type : Point or MultiPoint\n",
      "     geometry  Dec2021        lat         lon  plotid  sampleid\n",
      "0        None        1 -21.345649  165.286531       1         1\n",
      "1        None        1 -21.345380  165.286531       1         2\n",
      "2        None        1 -21.345111  165.286531       1         3\n",
      "3        None        1 -21.345649  165.286820       1         4\n",
      "4        None        1 -21.345380  165.286820       1         5\n",
      "...       ...      ...        ...         ...     ...       ...\n",
      "4995     None        1 -22.186619  166.930179     556      8881\n",
      "4996     None        1 -22.186350  166.930179     556      8882\n",
      "4997     None        1 -22.186081  166.930179     556      8883\n",
      "4998     None        1 -22.186619  166.930470     556      8884\n",
      "4999     None        1 -22.186350  166.930470     556      8885\n",
      "\n",
      "[5000 rows x 6 columns]\n",
      "Geometry type : Point or MultiPoint\n",
      "     geometry  Dec2021        lat         lon  plotid  sampleid\n",
      "0        None        1 -22.186081  166.930470     556      8886\n",
      "1        None        1 -22.186619  166.930761     556      8887\n",
      "2        None        1 -22.186350  166.930761     556      8888\n",
      "3        None        1 -22.186081  166.930761     556      8889\n",
      "4        None        1 -22.192629  166.515669     557      8897\n",
      "...       ...      ...        ...         ...     ...       ...\n",
      "4445     None        6 -22.375420  166.767600    1050     16789\n",
      "4446     None        6 -22.375151  166.767600    1050     16790\n",
      "4447     None        6 -22.375689  166.767891    1050     16791\n",
      "4448     None        6 -22.375420  166.767891    1050     16792\n",
      "4449     None        6 -22.375151  166.767891    1050     16793\n",
      "\n",
      "[4450 rows x 6 columns]\n"
     ]
    }
   ],
   "source": [
    "output=[]\n",
    "for i, gdf in enumerate(gdfs, start=1):\n",
    "    # Appliquer la commande d'extraction des données\n",
    "    output_gdf = gee.extract_data(specs, gdf)\n",
    "    print(output_gdf)\n",
    "\n",
    "    output.append(output_gdf)\n",
    "output_results=pd.concat(output,axis=0)\n",
    "output_results.to_csv(chemin_output_csv+file_output)"
   ]
  }
 ],
 "metadata": {
  "kernelspec": {
   "display_name": "gis39",
   "language": "python",
   "name": "python3"
  },
  "language_info": {
   "codemirror_mode": {
    "name": "ipython",
    "version": 3
   },
   "file_extension": ".py",
   "mimetype": "text/x-python",
   "name": "python",
   "nbconvert_exporter": "python",
   "pygments_lexer": "ipython3",
   "version": "3.11.8"
  }
 },
 "nbformat": 4,
 "nbformat_minor": 2
}
