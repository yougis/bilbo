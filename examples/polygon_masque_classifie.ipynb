{
 "cells": [
  {
   "cell_type": "code",
   "execution_count": null,
   "metadata": {
    "ExecuteTime": {
     "end_time": "2023-04-07T08:29:01.222883Z",
     "start_time": "2023-04-07T08:29:01.076457Z"
    },
    "collapsed": true
   },
   "outputs": [],
   "source": [
    "specs = {'adaptingDataframe': {'changeType': {}, 'renameMap': {}, 'setValue': None, 'colName': 'id_indicateur',\n",
    "                               'value': '??', 'toDrop': []}, 'catalogUri': 'None',\n",
    "         'confDb': {'chunksize': 1000, 'schema': 'surfor', 'strategy': 'append',\n",
    "                    'tableName': 'faits_GFC_treecover2000'},\n",
    "         'confDims': {'isin_id_mesure': [3, 100], 'isin_id_spatial': ['None']},\n",
    "         'confRaster': {'api': 'GEE', 'masque': [30,50,70,100], 'outputValue': 'classifie',\n",
    "                        'defaultValue': 0.0, 'overlayHow': 'identity',\n",
    "                        'uri_image': 'UMD/hansen/global_forest_change_2021_v1_9', 'windows_height': 2048,\n",
    "                        'windows_width': 2048, 'bandName': 'treecover2000'}, 'dataName': 'gfc_treecover2000', 'epsg': 'EPSG:4326',\n",
    "         'overlayHow': 'identity', 'sourceType': 'Raster'}"
   ]
  },
  {
   "cell_type": "code",
   "execution_count": null,
   "metadata": {
    "ExecuteTime": {
     "end_time": "2023-04-07T08:29:47.127918Z",
     "start_time": "2023-04-07T08:29:34.567894Z"
    },
    "collapsed": false
   },
   "outputs": [],
   "source": [
    "%load_ext autoreload\n",
    "%autoreload 2\n",
    "import ee\n",
    "import geemap\n",
    "import sys\n",
    "sys.path.append(\"..\")\n",
    "from generate_indicator import gee\n",
    "import geopandas as gpd\n",
    "import matplotlib.pyplot as plt\n",
    "from rasterio.plot import show\n",
    "\n",
    "# création de l'input : geodataframe avec N polygone et N points\n",
    "zone1 = ee.Geometry.Polygon(\n",
    "    [[[166.40, -22.22], [166.40, -22.15], [166.42, -22.13], [166.45, -22.15], [166.45, -22.22]]])\n",
    "zone2 = ee.Geometry.Polygon(\n",
    "    [[[166.50, -22.10], [166.50, -22.15], [166.52, -22.12], [166.54, -22.15], [166.54, -22.10]]])\n",
    "features = [\n",
    "    ee.Feature(zone1, {'name': 'zone1'}),\n",
    "    ee.Feature(zone2, {'name': 'zone2'}),\n",
    "]\n",
    "gdf = geemap.ee_to_geopandas(ee.FeatureCollection(features)).set_crs(4326)\n",
    "\n",
    "# traitement\n",
    "output_gdf = gee.extract_data(specs, gdf)"
   ]
  },
  {
   "cell_type": "code",
   "execution_count": null,
   "metadata": {
    "ExecuteTime": {
     "end_time": "2023-04-07T08:29:51.546460Z",
     "start_time": "2023-04-07T08:29:50.960326Z"
    },
    "collapsed": false
   },
   "outputs": [],
   "source": [
    "# représentation des résultats\n",
    "for feature in output_gdf.iterfeatures():\n",
    "    image_clipped = feature.get('properties').get('mini_raster_array')\n",
    "    transform = feature.get('properties').get('mini_raster_affine')\n",
    "    sample_gdf = gpd.GeoDataFrame.from_features([feature])\n",
    "    print(\"taille de l'image '{name}' : {shape}\".format(shape=image_clipped.shape, name=feature.get('properties').get('name')))\n",
    "    print(\"valeur du pixel en position ({x},{y}) : {valeur}\".format(x=100, y=120, valeur=image_clipped[100][120]))\n",
    "    print(\"valeur du pixel en position ({x},{y}) : {valeur}\".format(x=170, y=150, valeur=image_clipped[170][150]))\n",
    "    fig, ax = plt.subplots(figsize=(50, 12))\n",
    "    sample_gdf.plot(ax=ax, edgecolor='blue', alpha=0.5)\n",
    "    show(image_clipped, ax=ax, transform=transform)\n",
    "    plt.show()"
   ]
  }
 ],
 "metadata": {
  "kernelspec": {
   "display_name": "Python 3",
   "language": "python",
   "name": "python3"
  },
  "language_info": {
   "codemirror_mode": {
    "name": "ipython",
    "version": 3
   },
   "file_extension": ".py",
   "mimetype": "text/x-python",
   "name": "python",
   "nbconvert_exporter": "python",
   "pygments_lexer": "ipython3",
   "version": "3.9.13"
  }
 },
 "nbformat": 4,
 "nbformat_minor": 0
}
