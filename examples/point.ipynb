{
 "cells": [
  {
   "cell_type": "code",
   "execution_count": null,
   "metadata": {
    "ExecuteTime": {
     "end_time": "2023-04-11T07:41:26.477420Z",
     "start_time": "2023-04-11T07:41:26.468951Z"
    },
    "collapsed": true
   },
   "outputs": [],
   "source": [
    "specs = {'adaptingDataframe': {'changeType': {}, 'renameMap': {}, 'setValue': None, 'colName': 'id_indicateur',\n",
    "                               'value': '??', 'toDrop': []}, 'catalogUri': 'None',\n",
    "         'confDb': {'chunksize': 1000, 'schema': 'surfor', 'strategy': 'append',\n",
    "                    'tableName': 'faits_GFC_treecover2000'},\n",
    "         'confDims': {'isin_id_mesure': [3, 100], 'isin_id_spatial': ['None']},\n",
    "         'confRaster': {'api': 'GEE', 'masque': None, 'outputValue': 'continue', 'defaultValue': 0.0,\n",
    "                        'overlayHow': 'identity', 'uri_image': 'UMD/hansen/global_forest_change_2021_v1_9',\n",
    "                        'windows_height': 2048, 'windows_width': 2048, 'bandName': 'treecover2000'}, 'dataName': 'gfc_treecover2000',\n",
    "         'epsg': 'EPSG:4326', 'overlayHow': 'identity', 'sourceType': 'Raster'}"
   ]
  },
  {
   "cell_type": "code",
   "execution_count": null,
   "metadata": {
    "ExecuteTime": {
     "end_time": "2023-04-07T08:20:15.067789Z",
     "start_time": "2023-04-07T08:20:06.253449Z"
    },
    "collapsed": false
   },
   "outputs": [],
   "source": [
    "%load_ext autoreload\n",
    "%autoreload 2\n",
    "import ee\n",
    "import geemap\n",
    "import sys\n",
    "sys.path.append(\"..\")\n",
    "from generate_indicator import gee\n",
    "import geopandas as gpd\n",
    "import matplotlib.pyplot as plt\n",
    "from rasterio.plot import show\n",
    "\n",
    "# instanciation de ee\n",
    "service_account = 'ee-oeil@surfor.iam.gserviceaccount.com'\n",
    "credentials = ee.ServiceAccountCredentials(service_account, '../generate_indicator/gee_credentials.json')\n",
    "ee.Initialize(credentials)\n",
    "\n",
    "# création de l'input : geodataframe avec N polygone et N points\n",
    "point1 = ee.Geometry.Point((166.605758, -22.127171)) # en pleine foret\n",
    "point2 = ee.Geometry.Point((166.450659, -22.284149)) # en pleine ville\n",
    "features = [\n",
    "    ee.Feature(point1, {'name': 'point1', 'description': 'en pleine foret'}),\n",
    "    ee.Feature(point2, {'name': 'point2', 'description': 'en pleine ville'}),\n",
    "]\n",
    "gdf = geemap.ee_to_geopandas(ee.FeatureCollection(features)).set_crs(\"EPSG:4326\")\n",
    "\n",
    "# traitement\n",
    "output_gdf = gee.extract_data(specs, gdf)"
   ]
  },
  {
   "cell_type": "code",
   "execution_count": null,
   "metadata": {
    "ExecuteTime": {
     "end_time": "2023-04-07T08:20:17.919119Z",
     "start_time": "2023-04-07T08:20:17.786032Z"
    },
    "collapsed": false
   },
   "outputs": [],
   "source": [
    "for feature in output_gdf.iterfeatures():\n",
    "    pixel_value = feature.get('properties').get('treecover2000')\n",
    "    print(\"Le point '{name}' ({description}) a une valeur de '{valeur}'\".format(name=feature.get('properties').get('name'), valeur=pixel_value, description=feature.get('properties').get('description')))"
   ]
  }
 ],
 "metadata": {
  "kernelspec": {
   "display_name": "Python 3",
   "language": "python",
   "name": "python3"
  },
  "language_info": {
   "codemirror_mode": {
    "name": "ipython",
    "version": 3
   },
   "file_extension": ".py",
   "mimetype": "text/x-python",
   "name": "python",
   "nbconvert_exporter": "python",
   "pygments_lexer": "ipython3",
   "version": "3.9.13"
  }
 },
 "nbformat": 4,
 "nbformat_minor": 0
}
