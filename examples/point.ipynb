{
 "cells": [
  {
   "cell_type": "code",
   "execution_count": 1,
   "metadata": {
    "collapsed": true,
    "ExecuteTime": {
     "start_time": "2023-04-06T14:50:11.479264Z",
     "end_time": "2023-04-06T14:50:11.495915Z"
    }
   },
   "outputs": [],
   "source": [
    "specs = {'adaptingDataframe': {'changeType': {}, 'renameMap': {}, 'setValue': None, 'colName': 'id_indicateur',\n",
    "                               'value': '??', 'toDrop': []}, 'catalogUri': 'None',\n",
    "         'confDb': {'chunksize': 1000, 'schema': 'surfor', 'strategy': 'append',\n",
    "                    'tableName': 'faits_GFC_treecover2000'},\n",
    "         'confDims': {'isin_id_mesure': [3, 100], 'isin_id_spatial': ['None']},\n",
    "         'confRaster': {'api': 'GEE', 'masque': None, 'outputValue': 'continue', 'defaultValue': 0.0,\n",
    "                        'overlayHow': 'identity', 'uri_image': 'UMD/hansen/global_forest_change_2021_v1_9',\n",
    "                        'windows_height': 2048, 'windows_width': 2048}, 'dataName': 'gfc_treecover2000',\n",
    "         'epsg': 'EPSG:4326', 'keepList': ['treecover2000'], 'overlayHow': 'identity', 'sourceType': 'Raster'}"
   ]
  },
  {
   "cell_type": "code",
   "execution_count": 2,
   "outputs": [],
   "source": [
    "%load_ext autoreload\n",
    "%autoreload 2\n",
    "import ee\n",
    "import geemap as gee\n",
    "import geopandas as gpd\n",
    "import matplotlib.pyplot as plt\n",
    "from rasterio.plot import show\n",
    "from gee_raster import extract\n",
    "\n",
    "# instanciation de ee\n",
    "service_account = 'ee-oeil@surfor.iam.gserviceaccount.com'\n",
    "credentials = ee.ServiceAccountCredentials(service_account, '../gee_raster/surfor-8383e43c3aa7.json')\n",
    "ee.Initialize(credentials)\n",
    "\n",
    "# création de l'input : geodataframe avec N polygone et N points\n",
    "point1 = ee.Geometry.Point((166.605758, -22.127171)) # en pleine foret\n",
    "point2 = ee.Geometry.Point((166.450659, -22.284149)) # en pleine ville\n",
    "features = [\n",
    "    ee.Feature(point1, {'name': 'point1', 'description': 'en pleine foret'}),\n",
    "    ee.Feature(point2, {'name': 'point2', 'description': 'en pleine ville'}),\n",
    "]\n",
    "gdf = gee.ee_to_geopandas(ee.FeatureCollection(features))\n",
    "\n",
    "# traitement\n",
    "output_gdf = extract.extract_gee_data(specs, gdf)"
   ],
   "metadata": {
    "collapsed": false,
    "ExecuteTime": {
     "start_time": "2023-04-06T14:50:20.240432Z",
     "end_time": "2023-04-06T14:50:34.224963Z"
    }
   }
  },
  {
   "cell_type": "code",
   "execution_count": 3,
   "outputs": [
    {
     "name": "stdout",
     "output_type": "stream",
     "text": [
      "Le point 'point1' (en pleine foret) a une valeur de '45'\n",
      "Le point 'point2' (en pleine ville) a une valeur de '0'\n"
     ]
    }
   ],
   "source": [
    "for feature in output_gdf.iterfeatures():\n",
    "    pixel_value = feature.get('properties').get('treecover2000')\n",
    "    print(\"Le point '{name}' ({description}) a une valeur de '{valeur}'\".format(name=feature.get('properties').get('name'), valeur=pixel_value, description=feature.get('properties').get('description')))"
   ],
   "metadata": {
    "collapsed": false,
    "ExecuteTime": {
     "start_time": "2023-04-06T14:50:36.882563Z",
     "end_time": "2023-04-06T14:50:37.018089Z"
    }
   }
  }
 ],
 "metadata": {
  "kernelspec": {
   "display_name": "Python 3",
   "language": "python",
   "name": "python3"
  },
  "language_info": {
   "codemirror_mode": {
    "name": "ipython",
    "version": 2
   },
   "file_extension": ".py",
   "mimetype": "text/x-python",
   "name": "python",
   "nbconvert_exporter": "python",
   "pygments_lexer": "ipython2",
   "version": "2.7.6"
  }
 },
 "nbformat": 4,
 "nbformat_minor": 0
}
