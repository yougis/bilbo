{
 "cells": [
  {
   "cell_type": "code",
   "execution_count": 1,
   "metadata": {},
   "outputs": [],
   "source": [
    "import intake\n",
    "from intake import open_catalog\n",
    "from dotenv import load_dotenv\n",
    "import os\n",
    "from sqlalchemy import create_engine"
   ]
  },
  {
   "cell_type": "code",
   "execution_count": 2,
   "metadata": {},
   "outputs": [],
   "source": [
    "load_dotenv()\n",
    "db_user_vulcain = os.getenv(\"DB_USER_VULCAIN\")\n",
    "os.getenv(\"DB_PWD_VULCAIN\")\n",
    "os.getenv(\"DB_HOST_VULCAIN\")\n",
    "os.getenv(\"DB_PORT_VULCAIN\")\n",
    "os.getenv(\"DB_VULCAIN_PROD\")\n",
    "\n",
    "usr=os.getenv(\"DB_USER\")\n",
    "pswd=os.getenv(\"DB_PWD\")\n",
    "host=os.getenv(\"DB_HOST\")\n",
    "port=os.getenv(\"DB_PORT\")\n",
    "db_traitement=os.getenv(\"DB_WORKSPACE\")\n",
    "db_ref=os.getenv(\"DB_REF\")\n",
    "db_externe=os.getenv(\"DB_EXT\")\n",
    "dwh_fact_strategy=os.getenv(\"DWH_FACT_STRATEGY\")\n",
    "dwh_dim_strategy=os.getenv(\"DWH_DIM_STRATEGY\")\n",
    "home=os.getenv(\"HOME_PATH\")\n",
    "data_catalog_dir=os.getenv(\"DATA_CATALOG_DIR\")"
   ]
  },
  {
   "cell_type": "code",
   "execution_count": 3,
   "metadata": {},
   "outputs": [],
   "source": [
    "def getEngine(user=usr,pswd=pswd,host=host,dbase=db_traitement):\n",
    "    connection = f'postgresql://{user}:{pswd}@{host}:{port}/{dbase}'\n",
    "    return create_engine(connection)"
   ]
  },
  {
   "cell_type": "code",
   "execution_count": 4,
   "metadata": {},
   "outputs": [],
   "source": [
    "cat_data_georep = open_catalog(f'{data_catalog_dir}data_externe_georep.yaml')\n",
    "epsg=3163\n",
    "schema='dimenc'\n",
    "db = db_externe\n",
    "engine = getEngine(dbase=db)"
   ]
  },
  {
   "cell_type": "code",
   "execution_count": 6,
   "metadata": {},
   "outputs": [
    {
     "data": {
      "text/plain": [
       "'concessions_minieres'"
      ]
     },
     "execution_count": 6,
     "metadata": {},
     "output_type": "execute_result"
    }
   ],
   "source": [
    "cat_data_georep.concessions_minieres.name"
   ]
  },
  {
   "cell_type": "code",
   "execution_count": 9,
   "metadata": {},
   "outputs": [
    {
     "name": "stdout",
     "output_type": "stream",
     "text": [
      "concessions_minieres  to pgis\n"
     ]
    },
    {
     "ename": "ObjectNotExecutableError",
     "evalue": "Not an executable object: 'ALTER TABLE concessions_minieres ADD PRIMARY KEY (`objectid`);'",
     "output_type": "error",
     "traceback": [
      "\u001b[0;31m---------------------------------------------------------------------------\u001b[0m",
      "\u001b[0;31mAttributeError\u001b[0m                            Traceback (most recent call last)",
      "File \u001b[0;32m/opt/conda/envs/gis311/lib/python3.11/site-packages/sqlalchemy/engine/base.py:1418\u001b[0m, in \u001b[0;36mConnection.execute\u001b[0;34m(self, statement, parameters, execution_options)\u001b[0m\n\u001b[1;32m   1417\u001b[0m \u001b[38;5;28;01mtry\u001b[39;00m:\n\u001b[0;32m-> 1418\u001b[0m     meth \u001b[38;5;241m=\u001b[39m \u001b[43mstatement\u001b[49m\u001b[38;5;241;43m.\u001b[39;49m\u001b[43m_execute_on_connection\u001b[49m\n\u001b[1;32m   1419\u001b[0m \u001b[38;5;28;01mexcept\u001b[39;00m \u001b[38;5;167;01mAttributeError\u001b[39;00m \u001b[38;5;28;01mas\u001b[39;00m err:\n",
      "\u001b[0;31mAttributeError\u001b[0m: 'str' object has no attribute '_execute_on_connection'",
      "\nThe above exception was the direct cause of the following exception:\n",
      "\u001b[0;31mObjectNotExecutableError\u001b[0m                  Traceback (most recent call last)",
      "Cell \u001b[0;32mIn[9], line 7\u001b[0m\n\u001b[1;32m      5\u001b[0m \u001b[38;5;28mprint\u001b[39m(i,\u001b[38;5;124m\"\u001b[39m\u001b[38;5;124m to pgis\u001b[39m\u001b[38;5;124m\"\u001b[39m)\n\u001b[1;32m      6\u001b[0m \u001b[38;5;28;01mwith\u001b[39;00m engine\u001b[38;5;241m.\u001b[39mconnect() \u001b[38;5;28;01mas\u001b[39;00m con:\n\u001b[0;32m----> 7\u001b[0m     \u001b[43mcon\u001b[49m\u001b[38;5;241;43m.\u001b[39;49m\u001b[43mexecute\u001b[49m\u001b[43m(\u001b[49m\u001b[38;5;124;43mf\u001b[39;49m\u001b[38;5;124;43m'\u001b[39;49m\u001b[38;5;124;43mALTER TABLE \u001b[39;49m\u001b[38;5;132;43;01m{\u001b[39;49;00m\u001b[43mi\u001b[49m\u001b[38;5;132;43;01m}\u001b[39;49;00m\u001b[38;5;124;43m ADD PRIMARY KEY (`objectid`);\u001b[39;49m\u001b[38;5;124;43m'\u001b[39;49m\u001b[43m)\u001b[49m\n",
      "File \u001b[0;32m/opt/conda/envs/gis311/lib/python3.11/site-packages/sqlalchemy/engine/base.py:1420\u001b[0m, in \u001b[0;36mConnection.execute\u001b[0;34m(self, statement, parameters, execution_options)\u001b[0m\n\u001b[1;32m   1418\u001b[0m     meth \u001b[38;5;241m=\u001b[39m statement\u001b[38;5;241m.\u001b[39m_execute_on_connection\n\u001b[1;32m   1419\u001b[0m \u001b[38;5;28;01mexcept\u001b[39;00m \u001b[38;5;167;01mAttributeError\u001b[39;00m \u001b[38;5;28;01mas\u001b[39;00m err:\n\u001b[0;32m-> 1420\u001b[0m     \u001b[38;5;28;01mraise\u001b[39;00m exc\u001b[38;5;241m.\u001b[39mObjectNotExecutableError(statement) \u001b[38;5;28;01mfrom\u001b[39;00m \u001b[38;5;21;01merr\u001b[39;00m\n\u001b[1;32m   1421\u001b[0m \u001b[38;5;28;01melse\u001b[39;00m:\n\u001b[1;32m   1422\u001b[0m     \u001b[38;5;28;01mreturn\u001b[39;00m meth(\n\u001b[1;32m   1423\u001b[0m         \u001b[38;5;28mself\u001b[39m,\n\u001b[1;32m   1424\u001b[0m         distilled_parameters,\n\u001b[1;32m   1425\u001b[0m         execution_options \u001b[38;5;129;01mor\u001b[39;00m NO_OPTIONS,\n\u001b[1;32m   1426\u001b[0m     )\n",
      "\u001b[0;31mObjectNotExecutableError\u001b[0m: Not an executable object: 'ALTER TABLE concessions_minieres ADD PRIMARY KEY (`objectid`);'"
     ]
    }
   ],
   "source": [
    "l = ['concessions_minieres']\n",
    "for i in l:\n",
    "    data= getattr(cat_data_georep,i).read().to_crs(epsg)\n",
    "    data.to_postgis(i,engine, schema=schema,if_exists='replace')\n",
    "    print(i,\" to pgis\")\n",
    "    with engine.connect() as con:\n",
    "        con.execute(f'ALTER TABLE {i} ADD PRIMARY KEY (`objectid`);')"
   ]
  },
  {
   "cell_type": "code",
   "execution_count": null,
   "metadata": {},
   "outputs": [
    {
     "ename": "NameError",
     "evalue": "name 'l' is not defined",
     "output_type": "error",
     "traceback": [
      "\u001b[0;31m---------------------------------------------------------------------------\u001b[0m",
      "\u001b[0;31mNameError\u001b[0m                                 Traceback (most recent call last)",
      "Cell \u001b[0;32mIn[2], line 2\u001b[0m\n\u001b[1;32m      1\u001b[0m postgresString \u001b[38;5;241m=\u001b[39m \u001b[38;5;124m\"\"\"\u001b[39m\u001b[38;5;124mpostgresql://\u001b[39m\u001b[38;5;124m{{\u001b[39m\u001b[38;5;124menv(\u001b[39m\u001b[38;5;124m\"\u001b[39m\u001b[38;5;124mDB_USER\u001b[39m\u001b[38;5;124m\"\u001b[39m\u001b[38;5;124m)}}:\u001b[39m\u001b[38;5;124m{{\u001b[39m\u001b[38;5;124menv(\u001b[39m\u001b[38;5;124m\"\u001b[39m\u001b[38;5;124mDB_PWD\u001b[39m\u001b[38;5;124m\"\u001b[39m\u001b[38;5;124m)}}@\u001b[39m\u001b[38;5;124m{{\u001b[39m\u001b[38;5;124menv(\u001b[39m\u001b[38;5;124m\"\u001b[39m\u001b[38;5;124mDB_HOST\u001b[39m\u001b[38;5;124m\"\u001b[39m\u001b[38;5;124m)}}:\u001b[39m\u001b[38;5;124m{{\u001b[39m\u001b[38;5;124menv(\u001b[39m\u001b[38;5;124m\"\u001b[39m\u001b[38;5;124mDB_PORT\u001b[39m\u001b[38;5;124m\"\u001b[39m\u001b[38;5;124m)}}/\u001b[39m\u001b[38;5;124m{{\u001b[39m\u001b[38;5;124menv(\u001b[39m\u001b[38;5;124m\"\u001b[39m\u001b[38;5;124mDB_EXT\u001b[39m\u001b[38;5;124m\"\u001b[39m\u001b[38;5;124m)}}\u001b[39m\u001b[38;5;124m\"\"\"\u001b[39m\n\u001b[0;32m----> 2\u001b[0m \u001b[38;5;28;01mfor\u001b[39;00m i \u001b[38;5;129;01min\u001b[39;00m \u001b[43ml\u001b[49m:\n\u001b[1;32m      4\u001b[0m     \u001b[38;5;28;01mwith\u001b[39;00m \u001b[38;5;28mopen\u001b[39m(\u001b[38;5;124mf\u001b[39m\u001b[38;5;124m'\u001b[39m\u001b[38;5;132;01m{\u001b[39;00mdata_catalog_dir\u001b[38;5;132;01m}\u001b[39;00m\u001b[38;5;124mdata_reference.yaml\u001b[39m\u001b[38;5;124m'\u001b[39m, \u001b[38;5;124m'\u001b[39m\u001b[38;5;124ma\u001b[39m\u001b[38;5;124m'\u001b[39m) \u001b[38;5;28;01mas\u001b[39;00m f:\n\u001b[1;32m      5\u001b[0m         f\u001b[38;5;241m.\u001b[39mwrite(\u001b[38;5;124mf\u001b[39m\u001b[38;5;124m\"\"\"\u001b[39m\u001b[38;5;124m  \u001b[39m\n\u001b[1;32m      6\u001b[0m \u001b[38;5;124m  \u001b[39m\u001b[38;5;132;01m{\u001b[39;00mi\u001b[38;5;132;01m}\u001b[39;00m\u001b[38;5;124m:\u001b[39m\n\u001b[1;32m      7\u001b[0m \u001b[38;5;124m    args:\u001b[39m\n\u001b[0;32m   (...)\u001b[0m\n\u001b[1;32m     15\u001b[0m \u001b[38;5;124m    driver: intake_geopandas.geopandas.PostGISSource\u001b[39m\n\u001b[1;32m     16\u001b[0m \u001b[38;5;124m        \u001b[39m\u001b[38;5;124m\"\"\"\u001b[39m)\n",
      "\u001b[0;31mNameError\u001b[0m: name 'l' is not defined"
     ]
    }
   ],
   "source": [
    "postgresString = \"\"\"postgresql://{{env(\"DB_USER\")}}:{{env(\"DB_PWD\")}}@{{env(\"DB_HOST\")}}:{{env(\"DB_PORT\")}}/{{env(\"DB_EXT\")}}\"\"\"\n",
    "for i in l:\n",
    "    \n",
    "    with open(f'{data_catalog_dir}data_reference.yaml', 'a') as f:\n",
    "        f.write(f\"\"\"  \n",
    "  {i}:\n",
    "    args:\n",
    "      geopandas_kwargs:\n",
    "        geom_col: geometry\n",
    "        crs: 3163\n",
    "      uri: {postgresString}\n",
    "      sql_expr: select * from {schema}.{i}\n",
    "      table : {schema}.{i}\n",
    "    description: source de données {i}\n",
    "    driver: intake_geopandas.geopandas.PostGISSource\n",
    "        \"\"\")"
   ]
  }
 ],
 "metadata": {
  "kernelspec": {
   "display_name": "gis311",
   "language": "python",
   "name": "python3"
  },
  "language_info": {
   "codemirror_mode": {
    "name": "ipython",
    "version": 3
   },
   "file_extension": ".py",
   "mimetype": "text/x-python",
   "name": "python",
   "nbconvert_exporter": "python",
   "pygments_lexer": "ipython3",
   "version": "3.11.8"
  }
 },
 "nbformat": 4,
 "nbformat_minor": 2
}
