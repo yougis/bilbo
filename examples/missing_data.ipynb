{
 "cells": [
  {
   "cell_type": "code",
   "execution_count": 31,
   "metadata": {},
   "outputs": [],
   "source": [
    "import psycopg2\n",
    "\n",
    "# Connexion à la base de données source (base1)\n",
    "conn1 = psycopg2.connect(host=\"172.20.12.13\", dbname=\"data_externe\", user=\"hroussaffa\", password=\"mcot\")\n",
    "cursor1 = conn1.cursor()\n",
    "\n",
    "# Exécuter la requête SQL pour récupérer les données de la première table\n",
    "cursor1.execute(\"SELECT objectid FROM mos.mos2014_pn_ps_pi where c_2014_n3 in ('321','220','2221','311','240')\")\n",
    "rows1 = cursor1.fetchall()\n",
    "\n",
    "# Connexion à la base de données destination (base2)\n",
    "conn2 = psycopg2.connect(host=\"172.20.12.13\", dbname=\"oeil_traitement\", user=\"hroussaffa\", password=\"mcot\")\n",
    "cursor2 = conn2.cursor()\n",
    "\n",
    "\n"
   ]
  },
  {
   "cell_type": "code",
   "execution_count": 32,
   "metadata": {},
   "outputs": [],
   "source": [
    "\n",
    "# Exécuter la requête SQL pour récupérer les données de la deuxième table\n",
    "cursor2.execute('SELECT id_thematique FROM \"occupation_sol\".\"faits_foncier_mos_formation_arboree_dafe_2014\"')\n",
    "rows2 = cursor2.fetchall()"
   ]
  },
  {
   "cell_type": "code",
   "execution_count": 23,
   "metadata": {},
   "outputs": [],
   "source": [
    "cursor1.execute(\"\"\"\n",
    "    CREATE TABLE IF NOT EXISTS \"mos\".\"missing_data_table\" (\n",
    "        objectid INTEGER\n",
    "    )\n",
    "\"\"\")\n"
   ]
  },
  {
   "cell_type": "code",
   "execution_count": 33,
   "metadata": {},
   "outputs": [],
   "source": [
    "# Identifier les lignes de la première table qui n'ont pas de correspondance dans la deuxième table\n",
    "missing_rows = [row1 for row1 in rows1 if row1 not in rows2]"
   ]
  },
  {
   "cell_type": "code",
   "execution_count": 34,
   "metadata": {},
   "outputs": [],
   "source": [
    "# Insérer les lignes manquantes dans une nouvelle table\n",
    "for row in missing_rows:\n",
    "    cursor1.execute(\"INSERT INTO mos.missing_data_table (objectid) VALUES (%s)\", (row[0],))"
   ]
  },
  {
   "cell_type": "code",
   "execution_count": null,
   "metadata": {},
   "outputs": [],
   "source": [
    "cursor1.execute(\"\"\"\n",
    "CREATE VIEW mos.missing_data_result AS\n",
    "SELECT mos.*\n",
    "FROM mos.missing_data_table AS missing\n",
    "INNER JOIN mos.mos2014_pn_ps_pi AS mos ON missing.objectid = mos.objectid;\n",
    "\n",
    "ALTER TABLE mos.missing_data_result\n",
    "    OWNER TO oeil_admin;\n",
    "\n",
    "GRANT SELECT ON TABLE mos.missing_data_result TO mos_ro;\n",
    "GRANT ALL ON TABLE mos.missing_data_result TO mos_rw;\n",
    "GRANT ALL ON TABLE mos.missing_data_result TO oeil_admin;\n",
    "\"\"\")\n"
   ]
  },
  {
   "cell_type": "code",
   "execution_count": 35,
   "metadata": {},
   "outputs": [],
   "source": [
    "\n",
    "# Valider les changements et fermer les connexions\n",
    "conn1.commit()\n",
    "conn2.commit()\n",
    "cursor1.close()\n",
    "conn1.close()\n",
    "cursor2.close()\n",
    "conn2.close()"
   ]
  }
 ],
 "metadata": {
  "kernelspec": {
   "display_name": "gis311",
   "language": "python",
   "name": "python3"
  },
  "language_info": {
   "codemirror_mode": {
    "name": "ipython",
    "version": 3
   },
   "file_extension": ".py",
   "mimetype": "text/x-python",
   "name": "python",
   "nbconvert_exporter": "python",
   "pygments_lexer": "ipython3",
   "version": "3.11.8"
  }
 },
 "nbformat": 4,
 "nbformat_minor": 2
}
