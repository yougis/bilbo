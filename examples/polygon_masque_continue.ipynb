{
 "cells": [
  {
   "cell_type": "code",
   "execution_count": 1,
   "metadata": {
    "collapsed": true,
    "ExecuteTime": {
     "start_time": "2023-04-05T16:39:28.012081Z",
     "end_time": "2023-04-05T16:39:28.051063Z"
    }
   },
   "outputs": [
    {
     "name": "stdout",
     "output_type": "stream",
     "text": [
      "{'adaptingDataframe': {'changeType': {}, 'renameMap': {}, 'setValue': None, 'colName': 'id_indicateur', 'value': '??', 'toDrop': []}, 'catalogUri': 'None', 'confDb': {'chunksize': 1000, 'schema': 'surfor', 'strategy': 'append', 'tableName': 'faits_GFC_treecover2000'}, 'confDims': {'isin_id_mesure': [3, 100], 'isin_id_spatial': ['None']}, 'confRaster': {'api': 'GEE', 'masque': [{'gt': 30}], 'outputValue': 'continue', 'defaultValue': 0.0, 'overlayHow': 'identity', 'uri_image': 'UMD/hansen/global_forest_change_2021_v1_9', 'windows_height': 2048, 'windows_width': 2048}, 'dataName': 'gfc_treecover2000', 'epsg': 'EPSG:4326', 'keepList': ['treecover2000'], 'overlayHow': 'identity', 'sourceType': 'Raster'}\n"
     ]
    }
   ],
   "source": [
    "specs = {'adaptingDataframe': {'changeType': {}, 'renameMap': {}, 'setValue': None, 'colName': 'id_indicateur',\n",
    "                               'value': '??', 'toDrop': []}, 'catalogUri': 'None',\n",
    "         'confDb': {'chunksize': 1000, 'schema': 'surfor', 'strategy': 'append',\n",
    "                    'tableName': 'faits_GFC_treecover2000'},\n",
    "         'confDims': {'isin_id_mesure': [3, 100], 'isin_id_spatial': ['None']},\n",
    "         'confRaster': {'api': 'GEE', 'masque': [{'gt': 30}], 'outputValue': 'continue', 'defaultValue': 0.0,\n",
    "                        'overlayHow': 'identity', 'uri_image': 'UMD/hansen/global_forest_change_2021_v1_9',\n",
    "                        'windows_height': 2048, 'windows_width': 2048}, 'dataName': 'gfc_treecover2000',\n",
    "         'epsg': 'EPSG:4326', 'keepList': ['treecover2000'], 'overlayHow': 'identity', 'sourceType': 'Raster'}"
   ]
  }
 ],
 "metadata": {
  "kernelspec": {
   "display_name": "Python 3",
   "language": "python",
   "name": "python3"
  },
  "language_info": {
   "codemirror_mode": {
    "name": "ipython",
    "version": 2
   },
   "file_extension": ".py",
   "mimetype": "text/x-python",
   "name": "python",
   "nbconvert_exporter": "python",
   "pygments_lexer": "ipython2",
   "version": "2.7.6"
  }
 },
 "nbformat": 4,
 "nbformat_minor": 0
}
