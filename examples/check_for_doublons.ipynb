{
 "cells": [
  {
   "cell_type": "code",
   "execution_count": 1,
   "metadata": {},
   "outputs": [],
   "source": [
    "import psycopg2\n",
    "\n",
    "\n",
    "# Connexion à la base de données destination (base2)\n",
    "conn = psycopg2.connect(host=\"172.20.12.13\", dbname=\"oeil_traitement\", user=\"hroussaffa\", password=\"mcot\")\n",
    "cursor = conn.cursor()\n",
    "\n",
    "table = '\"occupation_sol\".\"faits_foncier_mos_formation_arboree_dafe_2014\"'"
   ]
  },
  {
   "cell_type": "code",
   "execution_count": 2,
   "metadata": {},
   "outputs": [],
   "source": [
    "cursor.execute(f\"\"\"\n",
    "SELECT geometry, COUNT(*) AS count\n",
    "FROM {table}\n",
    "GROUP BY geometry\n",
    "HAVING COUNT(*) > 1;\n",
    "\"\"\"\n",
    "               )\n",
    "rows = cursor.fetchall()"
   ]
  },
  {
   "cell_type": "code",
   "execution_count": null,
   "metadata": {},
   "outputs": [],
   "source": [
    "cursor.execute(f\"\"\"\n",
    "CREATE INDEX idx_spatial_geom ON {table} USING GIST (geometry);\n",
    "\"\"\")\n"
   ]
  },
  {
   "cell_type": "code",
   "execution_count": 3,
   "metadata": {},
   "outputs": [],
   "source": [
    "cursor.execute(f\"\"\"\n",
    "DELETE FROM {table}\n",
    "WHERE geometry IN (\n",
    "    SELECT geometry\n",
    "    FROM {table}\n",
    "    GROUP BY geometry\n",
    "    HAVING COUNT(*) > 1\n",
    ");\n",
    "\"\"\")\n",
    "\n"
   ]
  },
  {
   "cell_type": "code",
   "execution_count": null,
   "metadata": {},
   "outputs": [],
   "source": []
  }
 ],
 "metadata": {
  "kernelspec": {
   "display_name": "bilbo-packages-fNViwJlA-py3.11",
   "language": "python",
   "name": "python3"
  },
  "language_info": {
   "codemirror_mode": {
    "name": "ipython",
    "version": 3
   },
   "file_extension": ".py",
   "mimetype": "text/x-python",
   "name": "python",
   "nbconvert_exporter": "python",
   "pygments_lexer": "ipython3",
   "version": "3.11.8"
  }
 },
 "nbformat": 4,
 "nbformat_minor": 2
}
