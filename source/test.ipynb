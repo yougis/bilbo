{
 "cells": [
  {
   "cell_type": "code",
   "execution_count": 2,
   "outputs": [],
   "source": [
    "import geopandas\n",
    "import ee\n",
    "import geemap.foliumap as geemap\n",
    "import geemap as gee\n",
    "\n",
    "import numpy as np\n",
    "import matplotlib.pyplot as plt\n",
    "import folium\n",
    "import requests\n",
    "import rasterio\n",
    "from rasterio.plot import show"
   ],
   "metadata": {
    "collapsed": false,
    "ExecuteTime": {
     "start_time": "2023-04-05T08:00:05.504824Z",
     "end_time": "2023-04-05T08:00:09.752804Z"
    }
   }
  },
  {
   "cell_type": "code",
   "execution_count": 9,
   "outputs": [],
   "source": [
    "def extract_pixel_value(img, region, bandName, scale):\n",
    "    \"\"\"Extract pixel value from an image for a given region\"\"\"\n",
    "    value = img.reduceRegion(\n",
    "        reducer=ee.Reducer.mean(),\n",
    "        geometry=region,\n",
    "        scale=scale,\n",
    "        maxPixels=1e9\n",
    "    ).get(bandName)\n",
    "    return value\n",
    "\n",
    "\n",
    "# ##### Define a method for displaying Earth Engine image tiles to folium map\n",
    "def add_ee_layer(self, ee_image_object, vis_params, name):\n",
    "    map_id_dict = ee.Image(ee_image_object).getMapId(vis_params)\n",
    "    layer = folium.raster_layers.TileLayer(\n",
    "        tiles=map_id_dict['tile_fetcher'].url_format,\n",
    "        attr='Map Data &copy; <a href=\"https://earthengine.google.com/\">Google Earth Engine</a>',\n",
    "        name=name,\n",
    "        overlay=True,\n",
    "        control=True\n",
    "    )\n",
    "    layer.add_to(self)\n",
    "    return layer"
   ],
   "metadata": {
    "collapsed": false,
    "ExecuteTime": {
     "start_time": "2023-04-05T09:20:21.092265Z",
     "end_time": "2023-04-05T09:20:21.114112Z"
    }
   }
  },
  {
   "cell_type": "code",
   "execution_count": 17,
   "outputs": [
    {
     "data": {
      "text/plain": "<folium.folium.Map at 0x2006ffb2940>",
      "text/html": "<div style=\"width:100%;\"><div style=\"position:relative;width:100%;height:0;padding-bottom:60%;\"><span style=\"color:#565656\">Make this Notebook Trusted to load map: File -> Trust Notebook</span><iframe srcdoc=\"&lt;!DOCTYPE html&gt;\n&lt;html&gt;\n&lt;head&gt;\n    \n    &lt;meta http-equiv=&quot;content-type&quot; content=&quot;text/html; charset=UTF-8&quot; /&gt;\n    \n        &lt;script&gt;\n            L_NO_TOUCH = false;\n            L_DISABLE_3D = false;\n        &lt;/script&gt;\n    \n    &lt;style&gt;html, body {width: 100%;height: 100%;margin: 0;padding: 0;}&lt;/style&gt;\n    &lt;style&gt;#map {position:absolute;top:0;bottom:0;right:0;left:0;}&lt;/style&gt;\n    &lt;script src=&quot;https://cdn.jsdelivr.net/npm/leaflet@1.9.3/dist/leaflet.js&quot;&gt;&lt;/script&gt;\n    &lt;script src=&quot;https://code.jquery.com/jquery-1.12.4.min.js&quot;&gt;&lt;/script&gt;\n    &lt;script src=&quot;https://cdn.jsdelivr.net/npm/bootstrap@5.2.2/dist/js/bootstrap.bundle.min.js&quot;&gt;&lt;/script&gt;\n    &lt;script src=&quot;https://cdnjs.cloudflare.com/ajax/libs/Leaflet.awesome-markers/2.0.2/leaflet.awesome-markers.js&quot;&gt;&lt;/script&gt;\n    &lt;link rel=&quot;stylesheet&quot; href=&quot;https://cdn.jsdelivr.net/npm/leaflet@1.9.3/dist/leaflet.css&quot;/&gt;\n    &lt;link rel=&quot;stylesheet&quot; href=&quot;https://cdn.jsdelivr.net/npm/bootstrap@5.2.2/dist/css/bootstrap.min.css&quot;/&gt;\n    &lt;link rel=&quot;stylesheet&quot; href=&quot;https://netdna.bootstrapcdn.com/bootstrap/3.0.0/css/bootstrap.min.css&quot;/&gt;\n    &lt;link rel=&quot;stylesheet&quot; href=&quot;https://cdn.jsdelivr.net/npm/@fortawesome/fontawesome-free@6.2.0/css/all.min.css&quot;/&gt;\n    &lt;link rel=&quot;stylesheet&quot; href=&quot;https://cdnjs.cloudflare.com/ajax/libs/Leaflet.awesome-markers/2.0.2/leaflet.awesome-markers.css&quot;/&gt;\n    &lt;link rel=&quot;stylesheet&quot; href=&quot;https://cdn.jsdelivr.net/gh/python-visualization/folium/folium/templates/leaflet.awesome.rotate.min.css&quot;/&gt;\n    \n            &lt;meta name=&quot;viewport&quot; content=&quot;width=device-width,\n                initial-scale=1.0, maximum-scale=1.0, user-scalable=no&quot; /&gt;\n            &lt;style&gt;\n                #map_05676da171f330435864d29bcfced52c {\n                    position: relative;\n                    width: 100.0%;\n                    height: 100.0%;\n                    left: 0.0%;\n                    top: 0.0%;\n                }\n                .leaflet-container { font-size: 1rem; }\n            &lt;/style&gt;\n        \n&lt;/head&gt;\n&lt;body&gt;\n    \n    \n            &lt;div class=&quot;folium-map&quot; id=&quot;map_05676da171f330435864d29bcfced52c&quot; &gt;&lt;/div&gt;\n        \n&lt;/body&gt;\n&lt;script&gt;\n    \n    \n            var map_05676da171f330435864d29bcfced52c = L.map(\n                &quot;map_05676da171f330435864d29bcfced52c&quot;,\n                {\n                    center: [-22.16, 166.425],\n                    crs: L.CRS.EPSG3857,\n                    zoom: 12,\n                    zoomControl: true,\n                    preferCanvas: false,\n                }\n            );\n\n            \n\n        \n    \n            var tile_layer_245b89469bfd1b2b8118d403ea1d2365 = L.tileLayer(\n                &quot;https://{s}.tile.openstreetmap.org/{z}/{x}/{y}.png&quot;,\n                {&quot;attribution&quot;: &quot;Data by \\u0026copy; \\u003ca target=\\&quot;_blank\\&quot; href=\\&quot;http://openstreetmap.org\\&quot;\\u003eOpenStreetMap\\u003c/a\\u003e, under \\u003ca target=\\&quot;_blank\\&quot; href=\\&quot;http://www.openstreetmap.org/copyright\\&quot;\\u003eODbL\\u003c/a\\u003e.&quot;, &quot;detectRetina&quot;: false, &quot;maxNativeZoom&quot;: 18, &quot;maxZoom&quot;: 18, &quot;minZoom&quot;: 0, &quot;noWrap&quot;: false, &quot;opacity&quot;: 1, &quot;subdomains&quot;: &quot;abc&quot;, &quot;tms&quot;: false}\n            ).addTo(map_05676da171f330435864d29bcfced52c);\n        \n    \n\n        function geo_json_7cbe92c4e33551f2c8fb279ab6fc47ce_onEachFeature(feature, layer) {\n            layer.on({\n            });\n        };\n        var geo_json_7cbe92c4e33551f2c8fb279ab6fc47ce = L.geoJson(null, {\n                onEachFeature: geo_json_7cbe92c4e33551f2c8fb279ab6fc47ce_onEachFeature,\n            \n        });\n\n        function geo_json_7cbe92c4e33551f2c8fb279ab6fc47ce_add (data) {\n            geo_json_7cbe92c4e33551f2c8fb279ab6fc47ce\n                .addData(data)\n                .addTo(map_05676da171f330435864d29bcfced52c);\n        }\n            geo_json_7cbe92c4e33551f2c8fb279ab6fc47ce_add({&quot;coordinates&quot;: [[[166.4, -22.22], [166.4, -22.15], [166.42, -22.13], [166.45, -22.15], [166.45, -22.22]]], &quot;evenOdd&quot;: true, &quot;type&quot;: &quot;Polygon&quot;});\n\n        \n    \n\n        function geo_json_8e7c217ec39e7f65ffa5a3b705a48bd5_onEachFeature(feature, layer) {\n            layer.on({\n            });\n        };\n        var geo_json_8e7c217ec39e7f65ffa5a3b705a48bd5 = L.geoJson(null, {\n                onEachFeature: geo_json_8e7c217ec39e7f65ffa5a3b705a48bd5_onEachFeature,\n            \n        });\n\n        function geo_json_8e7c217ec39e7f65ffa5a3b705a48bd5_add (data) {\n            geo_json_8e7c217ec39e7f65ffa5a3b705a48bd5\n                .addData(data)\n                .addTo(map_05676da171f330435864d29bcfced52c);\n        }\n            geo_json_8e7c217ec39e7f65ffa5a3b705a48bd5_add({&quot;coordinates&quot;: [[[166.5, -22.1], [166.5, -22.15], [166.52, -22.12], [166.54, -22.15], [166.54, -22.1]]], &quot;evenOdd&quot;: true, &quot;type&quot;: &quot;Polygon&quot;});\n\n        \n&lt;/script&gt;\n&lt;/html&gt;\" style=\"position:absolute;width:100%;height:100%;left:0;top:0;border:none !important;\" allowfullscreen webkitallowfullscreen mozallowfullscreen></iframe></div></div>"
     },
     "metadata": {},
     "output_type": "display_data"
    }
   ],
   "source": [
    "def extract_gee_data(spec_file_path: str, data):\n",
    "    # découper chaque géométrie en sous géométrie ayant une valeur unique fournie par GEE\n",
    "    gfc = ee.Image(\"UMD/hansen/global_forest_change_2021_v1_9\")\n",
    "\n",
    "    output = []\n",
    "    for input_zone in data:\n",
    "        image = gfc.clip(input_zone)\n",
    "        bands_list = image.getInfo()['bands']\n",
    "        band = bands_list[0]\n",
    "        width = band['dimensions'][0]\n",
    "        height = band['dimensions'][1]\n",
    "        treecover = image.select(band['id'])\n",
    "        scale = image.projection().nominalScale().getInfo()\n",
    "\n",
    "        reduction = treecover.reduceToVectors(\n",
    "            geometry=None,\n",
    "            crs=image.projection(),\n",
    "            scale=scale,\n",
    "            geometryType='polygon',\n",
    "            eightConnected=True,\n",
    "            labelProperty='zone',\n",
    "            maxPixels=1e15,\n",
    "            tileScale=16\n",
    "        )\n",
    "        output.append(input_zone)\n",
    "\n",
    "    return output\n",
    "\n",
    "    # OU\n",
    "\n",
    "    # donner min, max, mean pour chaque géométrie donnée en entrée\n",
    "\n",
    "\n",
    "ee.Initialize()\n",
    "zones = [\n",
    "    ee.Geometry.Polygon([[[166.40, -22.22], [166.40, -22.15], [166.42, -22.13], [166.45, -22.15], [166.45, -22.22]]]),\n",
    "    ee.Geometry.Polygon([[[166.50, -22.10], [166.50, -22.15], [166.52, -22.12], [166.54, -22.15], [166.54, -22.10]]]),\n",
    "]\n",
    "map = folium.Map(location=[(-22.22 + -22.10) / 2, (166.40 + 166.45) / 2], zoom_start=12)\n",
    "for zone in zones:\n",
    "    folium.GeoJson(zone.toGeoJSON()).add_to(map)\n",
    "display(map)"
   ],
   "metadata": {
    "collapsed": false,
    "ExecuteTime": {
     "start_time": "2023-04-05T09:28:33.043632Z",
     "end_time": "2023-04-05T09:28:36.362057Z"
    }
   }
  },
  {
   "cell_type": "code",
   "execution_count": null,
   "outputs": [],
   "source": [
    "gfc = ee.Image(\"UMD/hansen/global_forest_change_2021_v1_9\")\n",
    "image = gfc.clip(ma_zone)\n",
    "bands_list = image.getInfo()['bands']\n",
    "band = bands_list[0]\n",
    "width = band['dimensions'][0]\n",
    "height = band['dimensions'][1]\n",
    "treecover = image.select(band['id'])\n",
    "scale = image.projection().nominalScale().getInfo()\n",
    "\n",
    "# https://developers.google.com/earth-engine/guides/reducers_reduce_to_vectors\n",
    "vectors = treecover.reduceToVectors(\n",
    "    geometry=None,\n",
    "    crs=image.projection(),\n",
    "    scale=scale,\n",
    "    geometryType='polygon',\n",
    "    eightConnected=True,\n",
    "    labelProperty='zone',\n",
    "    maxPixels=1e15,\n",
    "    tileScale=16\n",
    ").geometry()\n",
    "result = ee.FeatureCollection([ee.Feature(vectors)])\n",
    "map.add_ee_layer(result, {'min': 0.0, 'max': 100.0, 'palette': ['ffffff', 'ffbbbb', '0000ff']}, \"toto\")\n",
    "display(map)"
   ],
   "metadata": {
    "collapsed": false,
    "ExecuteTime": {
     "start_time": "2023-04-04T10:51:24.004795Z",
     "end_time": "2023-04-04T10:52:04.027299Z"
    }
   }
  },
  {
   "cell_type": "code",
   "execution_count": null,
   "outputs": [],
   "source": [
    "zones = treecover.gt(30).add(treecover.gt(60))\n",
    "# zones = zones.updateMask(zones.neq(0))\n",
    "vectors = zones.addBands(treecover).reduceToVectors(\n",
    "    geometry=None,\n",
    "    crs=image.projection(),\n",
    "    scale=scale,\n",
    "    geometryType='polygon',\n",
    "    eightConnected=False,\n",
    "    labelProperty='zone',\n",
    "    maxPixels=1e15,\n",
    "    tileScale=16\n",
    ")\n",
    "map.add_ee_layer(zones, {'min': 0, 'max': 2, 'palette': ['ffffff', '449152', '01330a']}, 'treecover')\n",
    "\n",
    "# Make a display image for the vectors, add it to the map.\n",
    "# display = ee.Image(0).updateMask(0).paint(vectors, '000000', 3)\n",
    "# map.add_ee_layer(ee.Image(0).updateMask(0).paint(vectors, '000000', 3), {'palette': '000000'}, 'vectors')\n",
    "display(map)"
   ],
   "metadata": {
    "collapsed": false,
    "ExecuteTime": {
     "start_time": "2023-04-04T11:39:31.348098Z",
     "end_time": "2023-04-04T11:39:34.262891Z"
    }
   }
  },
  {
   "cell_type": "code",
   "execution_count": 6,
   "outputs": [
    {
     "data": {
      "text/plain": "<folium.folium.Map at 0x2006e7d2a60>",
      "text/html": "<div style=\"width:100%;\"><div style=\"position:relative;width:100%;height:0;padding-bottom:60%;\"><span style=\"color:#565656\">Make this Notebook Trusted to load map: File -> Trust Notebook</span><iframe srcdoc=\"&lt;!DOCTYPE html&gt;\n&lt;html&gt;\n&lt;head&gt;\n    \n    &lt;meta http-equiv=&quot;content-type&quot; content=&quot;text/html; charset=UTF-8&quot; /&gt;\n    \n        &lt;script&gt;\n            L_NO_TOUCH = false;\n            L_DISABLE_3D = false;\n        &lt;/script&gt;\n    \n    &lt;style&gt;html, body {width: 100%;height: 100%;margin: 0;padding: 0;}&lt;/style&gt;\n    &lt;style&gt;#map {position:absolute;top:0;bottom:0;right:0;left:0;}&lt;/style&gt;\n    &lt;script src=&quot;https://cdn.jsdelivr.net/npm/leaflet@1.9.3/dist/leaflet.js&quot;&gt;&lt;/script&gt;\n    &lt;script src=&quot;https://code.jquery.com/jquery-1.12.4.min.js&quot;&gt;&lt;/script&gt;\n    &lt;script src=&quot;https://cdn.jsdelivr.net/npm/bootstrap@5.2.2/dist/js/bootstrap.bundle.min.js&quot;&gt;&lt;/script&gt;\n    &lt;script src=&quot;https://cdnjs.cloudflare.com/ajax/libs/Leaflet.awesome-markers/2.0.2/leaflet.awesome-markers.js&quot;&gt;&lt;/script&gt;\n    &lt;link rel=&quot;stylesheet&quot; href=&quot;https://cdn.jsdelivr.net/npm/leaflet@1.9.3/dist/leaflet.css&quot;/&gt;\n    &lt;link rel=&quot;stylesheet&quot; href=&quot;https://cdn.jsdelivr.net/npm/bootstrap@5.2.2/dist/css/bootstrap.min.css&quot;/&gt;\n    &lt;link rel=&quot;stylesheet&quot; href=&quot;https://netdna.bootstrapcdn.com/bootstrap/3.0.0/css/bootstrap.min.css&quot;/&gt;\n    &lt;link rel=&quot;stylesheet&quot; href=&quot;https://cdn.jsdelivr.net/npm/@fortawesome/fontawesome-free@6.2.0/css/all.min.css&quot;/&gt;\n    &lt;link rel=&quot;stylesheet&quot; href=&quot;https://cdnjs.cloudflare.com/ajax/libs/Leaflet.awesome-markers/2.0.2/leaflet.awesome-markers.css&quot;/&gt;\n    &lt;link rel=&quot;stylesheet&quot; href=&quot;https://cdn.jsdelivr.net/gh/python-visualization/folium/folium/templates/leaflet.awesome.rotate.min.css&quot;/&gt;\n    \n            &lt;meta name=&quot;viewport&quot; content=&quot;width=device-width,\n                initial-scale=1.0, maximum-scale=1.0, user-scalable=no&quot; /&gt;\n            &lt;style&gt;\n                #map_ea76b2f3f6ae98f8c210853ab0ffda50 {\n                    position: relative;\n                    width: 100.0%;\n                    height: 100.0%;\n                    left: 0.0%;\n                    top: 0.0%;\n                }\n                .leaflet-container { font-size: 1rem; }\n            &lt;/style&gt;\n        \n&lt;/head&gt;\n&lt;body&gt;\n    \n    \n            &lt;div class=&quot;folium-map&quot; id=&quot;map_ea76b2f3f6ae98f8c210853ab0ffda50&quot; &gt;&lt;/div&gt;\n        \n&lt;/body&gt;\n&lt;script&gt;\n    \n    \n            var map_ea76b2f3f6ae98f8c210853ab0ffda50 = L.map(\n                &quot;map_ea76b2f3f6ae98f8c210853ab0ffda50&quot;,\n                {\n                    center: [-22.1088019, 166.49695769049998],\n                    crs: L.CRS.EPSG3857,\n                    zoom: 12,\n                    zoomControl: true,\n                    preferCanvas: false,\n                }\n            );\n\n            \n\n        \n    \n            var tile_layer_7542ffc5422dbdbbe70245bf313a5bae = L.tileLayer(\n                &quot;https://{s}.tile.openstreetmap.org/{z}/{x}/{y}.png&quot;,\n                {&quot;attribution&quot;: &quot;Data by \\u0026copy; \\u003ca target=\\&quot;_blank\\&quot; href=\\&quot;http://openstreetmap.org\\&quot;\\u003eOpenStreetMap\\u003c/a\\u003e, under \\u003ca target=\\&quot;_blank\\&quot; href=\\&quot;http://www.openstreetmap.org/copyright\\&quot;\\u003eODbL\\u003c/a\\u003e.&quot;, &quot;detectRetina&quot;: false, &quot;maxNativeZoom&quot;: 18, &quot;maxZoom&quot;: 18, &quot;minZoom&quot;: 0, &quot;noWrap&quot;: false, &quot;opacity&quot;: 1, &quot;subdomains&quot;: &quot;abc&quot;, &quot;tms&quot;: false}\n            ).addTo(map_ea76b2f3f6ae98f8c210853ab0ffda50);\n        \n    \n\n        function geo_json_67c1ddd1bfed301399d2c0a71216c861_onEachFeature(feature, layer) {\n            layer.on({\n            });\n        };\n        var geo_json_67c1ddd1bfed301399d2c0a71216c861 = L.geoJson(null, {\n                onEachFeature: geo_json_67c1ddd1bfed301399d2c0a71216c861_onEachFeature,\n            \n        });\n\n        function geo_json_67c1ddd1bfed301399d2c0a71216c861_add (data) {\n            geo_json_67c1ddd1bfed301399d2c0a71216c861\n                .addData(data)\n                .addTo(map_ea76b2f3f6ae98f8c210853ab0ffda50);\n        }\n            geo_json_67c1ddd1bfed301399d2c0a71216c861_add({&quot;features&quot;: [{&quot;geometry&quot;: {&quot;coordinates&quot;: [[[166.387779807, -22.2276038], [166.387779807, -22.039679148], [166.5, -21.99], [166.606135574, -22.039679148], [166.606135574, -22.2276038], [166.387779807, -22.2276038]]], &quot;type&quot;: &quot;Polygon&quot;}, &quot;id&quot;: &quot;0&quot;, &quot;properties&quot;: {}, &quot;type&quot;: &quot;Feature&quot;}], &quot;type&quot;: &quot;FeatureCollection&quot;});\n\n        \n    \n            var tile_layer_fd9cd30cebb4ce49c386f7e237c43443 = L.tileLayer(\n                &quot;https://earthengine.googleapis.com/v1alpha/projects/earthengine-legacy/maps/d8c4e4c091d4e9d480afe73479838c50-21bc8bf4782c7539540785f9512b8709/tiles/{z}/{x}/{y}&quot;,\n                {&quot;attribution&quot;: &quot;Map Data \\u0026copy; \\u003ca href=\\&quot;https://earthengine.google.com/\\&quot;\\u003eGoogle Earth Engine\\u003c/a\\u003e&quot;, &quot;detectRetina&quot;: false, &quot;maxNativeZoom&quot;: 18, &quot;maxZoom&quot;: 18, &quot;minZoom&quot;: 0, &quot;noWrap&quot;: false, &quot;opacity&quot;: 1, &quot;subdomains&quot;: &quot;abc&quot;, &quot;tms&quot;: false}\n            ).addTo(map_ea76b2f3f6ae98f8c210853ab0ffda50);\n        \n&lt;/script&gt;\n&lt;/html&gt;\" style=\"position:absolute;width:100%;height:100%;left:0;top:0;border:none !important;\" allowfullscreen webkitallowfullscreen mozallowfullscreen></iframe></div></div>"
     },
     "metadata": {},
     "output_type": "display_data"
    }
   ],
   "source": [
    "# import des spécifications\n",
    "import yaml\n",
    "from yaml.loader import SafeLoader\n",
    "import geopandas as gpd\n",
    "from shapely.geometry import Polygon\n",
    "import json\n",
    "\n",
    "spec_file_path = './input_spec_example.yml'\n",
    "\n",
    "with open(spec_file_path) as f:\n",
    "    specs = yaml.load(f, Loader=SafeLoader)\n",
    "\n",
    "# création du fond de carte\n",
    "map = folium.Map(location=[(-22.2276038 + -21.99) / 2, (166.606135574 + 166.387779807) / 2], zoom_start=12)\n",
    "\n",
    "# création de l'input : liste de geodataframe\n",
    "# ma_zone_ee = ee.Geometry.Polygon([[[166.387779807,-22.2276038],[166.387779807,-22.039679148],[166.50,-21.99],[166.606135574,-22.039679148],[166.606135574,-22.2276038]]])\n",
    "coords = [(166.387779807, -22.2276038), (166.387779807, -22.039679148), (166.50, -21.99),\n",
    "          (166.606135574, -22.039679148), (166.606135574, -22.2276038)]\n",
    "ma_zone = Polygon(coords)\n",
    "gdf = gpd.GeoDataFrame(crs=specs['epsg'], geometry=[ma_zone])\n",
    "input = gdf\n",
    "\n",
    "# affichage de la zone d'entrée sur la carte\n",
    "folium.GeoJson(gdf.to_json()).add_to(map)\n",
    "\n",
    "# création de la variable de sortie\n",
    "output_polygons = []\n",
    "\n",
    "for geometry in input['geometry']:\n",
    "    xx, yy = geometry.exterior.coords.xy\n",
    "    coords = np.dstack((xx, yy)).tolist()\n",
    "    ee_zone = ee.Geometry.Polygon(coords)\n",
    "    image_zonee = ee.Image(specs['confRaster']['uri_image']).select(specs['keepList']).clip(ee_zone)\n",
    "\n",
    "    scale = image_zonee.projection().nominalScale().getInfo()\n",
    "    # vectors = image_zonee.addBands(srcImg=image_zonee).reduceToVectors(\n",
    "    vectors = image_zonee.addBands(srcImg=image_zonee).reduceToVectors(\n",
    "        geometry=None,\n",
    "        crs=specs['epsg'],\n",
    "        scale=scale,\n",
    "        geometryType='polygon',\n",
    "        eightConnected=False,\n",
    "        labelProperty='zone',\n",
    "        maxPixels=1e15,\n",
    "        tileScale=16,\n",
    "        reducer=ee.Reducer.mean()\n",
    "    )\n",
    "    vectorsSize = vectors.size()\n",
    "    vectorsList = vectors.toList(vectorsSize)\n",
    "    mapid = vectors.getMapId()\n",
    "    folium.TileLayer(\n",
    "        tiles=mapid['tile_fetcher'].url_format,\n",
    "        attr='Map Data &copy; <a href=\"https://earthengine.google.com/\">Google Earth Engine</a>',\n",
    "        overlay=True,\n",
    "        name='border',\n",
    "    ).add_to(map)\n",
    "    # for vector in vectorsList:\n",
    "    #     print(type(vectorsList.get(5059)))\n",
    "    # print(ee.Geometry(vectorsList.get(5059)).getInfo()['geometry']['coordinates'])\n",
    "    for idx in range(vectorsSize.getInfo()):\n",
    "        if idx == 10:\n",
    "            break\n",
    "    sub_polygon = Polygon(ee.Geometry(vectorsList.get(idx)).getInfo()['geometry']['coordinates'][0])\n",
    "    #     output_polygons.append(sub_polygon)\n",
    "\n",
    "output = gpd.GeoDataFrame(crs=specs['epsg'], geometry=output_polygons)\n",
    "# print(output[8])\n",
    "# print(output)\n",
    "\n",
    "display(map)"
   ],
   "metadata": {
    "collapsed": false,
    "ExecuteTime": {
     "start_time": "2023-04-05T08:01:42.520659Z",
     "end_time": "2023-04-05T08:01:44.760468Z"
    }
   }
  },
  {
   "cell_type": "code",
   "execution_count": 267,
   "outputs": [
    {
     "data": {
      "text/plain": "                                            geometry\n0  POLYGON ((166.38775 -22.04200, 166.38800 -22.0...\n1  POLYGON ((166.38775 -22.04550, 166.38800 -22.0...\n2  POLYGON ((166.38775 -22.04575, 166.38800 -22.0...\n3  POLYGON ((166.38775 -22.04600, 166.38800 -22.0...\n4  POLYGON ((166.38775 -22.04800, 166.38800 -22.0...\n5  POLYGON ((166.38775 -22.04875, 166.38800 -22.0...\n6  POLYGON ((166.38775 -22.04900, 166.38800 -22.0...\n7  POLYGON ((166.38775 -22.05075, 166.38800 -22.0...\n8  POLYGON ((166.38775 -22.05100, 166.38800 -22.0...\n9  POLYGON ((166.38775 -22.05125, 166.38800 -22.0...",
      "text/html": "<div>\n<style scoped>\n    .dataframe tbody tr th:only-of-type {\n        vertical-align: middle;\n    }\n\n    .dataframe tbody tr th {\n        vertical-align: top;\n    }\n\n    .dataframe thead th {\n        text-align: right;\n    }\n</style>\n<table border=\"1\" class=\"dataframe\">\n  <thead>\n    <tr style=\"text-align: right;\">\n      <th></th>\n      <th>geometry</th>\n    </tr>\n  </thead>\n  <tbody>\n    <tr>\n      <th>0</th>\n      <td>POLYGON ((166.38775 -22.04200, 166.38800 -22.0...</td>\n    </tr>\n    <tr>\n      <th>1</th>\n      <td>POLYGON ((166.38775 -22.04550, 166.38800 -22.0...</td>\n    </tr>\n    <tr>\n      <th>2</th>\n      <td>POLYGON ((166.38775 -22.04575, 166.38800 -22.0...</td>\n    </tr>\n    <tr>\n      <th>3</th>\n      <td>POLYGON ((166.38775 -22.04600, 166.38800 -22.0...</td>\n    </tr>\n    <tr>\n      <th>4</th>\n      <td>POLYGON ((166.38775 -22.04800, 166.38800 -22.0...</td>\n    </tr>\n    <tr>\n      <th>5</th>\n      <td>POLYGON ((166.38775 -22.04875, 166.38800 -22.0...</td>\n    </tr>\n    <tr>\n      <th>6</th>\n      <td>POLYGON ((166.38775 -22.04900, 166.38800 -22.0...</td>\n    </tr>\n    <tr>\n      <th>7</th>\n      <td>POLYGON ((166.38775 -22.05075, 166.38800 -22.0...</td>\n    </tr>\n    <tr>\n      <th>8</th>\n      <td>POLYGON ((166.38775 -22.05100, 166.38800 -22.0...</td>\n    </tr>\n    <tr>\n      <th>9</th>\n      <td>POLYGON ((166.38775 -22.05125, 166.38800 -22.0...</td>\n    </tr>\n  </tbody>\n</table>\n</div>"
     },
     "execution_count": 267,
     "metadata": {},
     "output_type": "execute_result"
    }
   ],
   "source": [
    "output"
   ],
   "metadata": {
    "collapsed": false,
    "ExecuteTime": {
     "start_time": "2023-04-04T16:47:11.207602Z",
     "end_time": "2023-04-04T16:47:11.253862Z"
    }
   }
  },
  {
   "cell_type": "code",
   "execution_count": 59,
   "outputs": [
    {
     "name": "stdout",
     "output_type": "stream",
     "text": [
      "0    Polygon\n",
      "1    Polygon\n",
      "dtype: object\n"
     ]
    },
    {
     "name": "stderr",
     "output_type": "stream",
     "text": [
      "\n",
      "KeyboardInterrupt\n",
      "\n"
     ]
    }
   ],
   "source": [
    "# import des spécifications\n",
    "import yaml\n",
    "from yaml.loader import SafeLoader\n",
    "import geopandas as gpd\n",
    "import folium\n",
    "import geemap.foliumap as geemap\n",
    "import geemap as gee\n",
    "import math\n",
    "import affine\n",
    "import rasterstats as rs\n",
    "import ee\n",
    "import matplotlib.pyplot as plt\n",
    "from rasterio.plot import show\n",
    "\n",
    "service_account = 'ee-oeil@surfor.iam.gserviceaccount.com'\n",
    "credentials = ee.ServiceAccountCredentials(service_account, 'surfor-8383e43c3aa7.json')\n",
    "ee.Initialize(credentials)\n",
    "\n",
    "\n",
    "def round_up(x, increment):\n",
    "    return math.ceil(x / increment) * increment\n",
    "\n",
    "def round_down(x, increment):\n",
    "    return math.floor(x / increment) * increment\n",
    "\n",
    "spec_file_path = './input_spec_example.yml'\n",
    "\n",
    "with open(spec_file_path) as f:\n",
    "    specs = yaml.load(f, Loader=SafeLoader)\n",
    "\n",
    "# création de l'input : geodataframe avec N polygone et N points\n",
    "zone1 = ee.Geometry.Polygon(\n",
    "        [[[166.40, -22.22], [166.40, -22.15], [166.42, -22.13], [166.45, -22.15], [166.45, -22.22]]])\n",
    "zone2 = ee.Geometry.Polygon(\n",
    "        [[[166.50, -22.10], [166.50, -22.15], [166.52, -22.12], [166.54, -22.15], [166.54, -22.10]]])\n",
    "features = [\n",
    "    ee.Feature(zone1, {'name': 'zone1'}),\n",
    "    ee.Feature(zone2, {'name': 'zone2'}),\n",
    "]\n",
    "input_gdf = gee.ee_to_geopandas(ee.FeatureCollection(features))\n",
    "\n",
    "# vérification du contenu de l'entrée\n",
    "if len(input_gdf) == 0:\n",
    "    raise 'Aucune donnée à traiter'\n",
    "else\n",
    "print(input_gdf.geom_type)\n",
    "\n",
    "# image de référence\n",
    "image = ee.Image(specs['confRaster']['uri_image']).select(specs['keepList'])\n",
    "scale = image.getInfo()['bands'][0]['crs_transform'][0]\n",
    "default_value = specs['confRaster']['defaultValue']\n",
    "projection = specs['epsg']\n",
    "\n",
    "# indiquer le crs si pas déjà fait\n",
    "if input_gdf.crs is None:\n",
    "    input_gdf = input_gdf.set_crs(crs=projection)\n",
    "\n",
    "# traitement sur les polygones un à un pour éviter de dépasser la limite de GEE de 262144 pixels\n",
    "feature_collection = geemap.geopandas_to_ee(input_gdf)\n",
    "features_list = feature_collection.toList(feature_collection.size())\n",
    "output_features = []\n",
    "for idx in range (feature_collection.size().getInfo()):\n",
    "    feature = ee.Feature(features_list.get(idx))\n",
    "    # récupération du raster correspondant au polygon\n",
    "    image_clipped = gee.ee_to_numpy(image, region=ee.FeatureCollection([feature]), default_value=default_value)\n",
    "    image_clipped_reshaped = None\n",
    "    if image_clipped is not None:\n",
    "        image_clipped_reshaped = image_clipped.reshape(image_clipped.shape[0], (image_clipped.shape[1]*image_clipped.shape[2]))\n",
    "\n",
    "    # récupération de l'affine\n",
    "    sample_gdf = gee.ee_to_geopandas(ee.FeatureCollection([feature]))\n",
    "    xmin, _, _, ymax = sample_gdf.total_bounds\n",
    "    transform = affine.Affine.from_gdal(round_down(xmin, scale) , scale ,0, round_up(ymax, scale) ,0,-scale)\n",
    "\n",
    "    # fig, ax = plt.subplots(figsize=(50, 12))\n",
    "    # sample_gdf.plot(ax=ax, edgecolor='blue', alpha=0.5)\n",
    "    # show(image_clipped_reshaped, ax=ax, transform=transform)\n",
    "    # plt.show()\n",
    "\n",
    "    # récupération des stats de la zone\n",
    "    if image_clipped_reshaped is not None:\n",
    "        stats = rs.zonal_stats(sample_gdf, image_clipped_reshaped, stats=['min', 'max', 'mean', 'median', 'std'],\n",
    "                       affine=transform, nodata=default_value,geojson_out=True,raster_out=True, all_touched=True)\n",
    "        output_features.append(stats[0])\n",
    "output_gdf = gpd.GeoDataFrame.from_features(output_features, crs=projection)"
   ],
   "metadata": {
    "collapsed": false,
    "ExecuteTime": {
     "start_time": "2023-04-05T14:48:56.386671Z",
     "end_time": "2023-04-05T14:49:11.678199Z"
    }
   }
  },
  {
   "cell_type": "code",
   "execution_count": 60,
   "outputs": [
    {
     "name": "stdout",
     "output_type": "stream",
     "text": [
      "2\n"
     ]
    }
   ],
   "source": [
    "print(len(input_gdf))"
   ],
   "metadata": {
    "collapsed": false,
    "ExecuteTime": {
     "start_time": "2023-04-05T14:59:32.617234Z",
     "end_time": "2023-04-05T14:59:32.625234Z"
    }
   }
  },
  {
   "cell_type": "code",
   "execution_count": 48,
   "outputs": [
    {
     "data": {
      "text/plain": "0.00025"
     },
     "execution_count": 48,
     "metadata": {},
     "output_type": "execute_result"
    }
   ],
   "source": [
    "image.getInfo()['bands'][0]['crs_transform'][0]"
   ],
   "metadata": {
    "collapsed": false,
    "ExecuteTime": {
     "start_time": "2023-04-05T14:36:08.049091Z",
     "end_time": "2023-04-05T14:36:09.406098Z"
    }
   }
  },
  {
   "cell_type": "code",
   "execution_count": 26,
   "outputs": [
    {
     "data": {
      "text/plain": "Affine(0.0025, 0.0, 166.5,\n       0.0, -0.0025, -22.1)"
     },
     "execution_count": 26,
     "metadata": {},
     "output_type": "execute_result"
    }
   ],
   "source": [
    "scale = 0.0025\n",
    "xmin, _, _, ymax = sample_gdf.total_bounds\n",
    "transform = affine.Affine.from_gdal(round_down(xmin, scale) , scale ,0, round_up(ymax, scale) ,0,-scale)\n",
    "transform"
   ],
   "metadata": {
    "collapsed": false,
    "ExecuteTime": {
     "start_time": "2023-04-05T14:15:08.504229Z",
     "end_time": "2023-04-05T14:15:08.519919Z"
    }
   }
  }
 ],
 "metadata": {
  "kernelspec": {
   "display_name": "Python 3",
   "language": "python",
   "name": "python3"
  },
  "language_info": {
   "codemirror_mode": {
    "name": "ipython",
    "version": 2
   },
   "file_extension": ".py",
   "mimetype": "text/x-python",
   "name": "python",
   "nbconvert_exporter": "python",
   "pygments_lexer": "ipython2",
   "version": "2.7.6"
  }
 },
 "nbformat": 4,
 "nbformat_minor": 0
}
