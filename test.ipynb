{
 "cells": [
  {
   "cell_type": "code",
   "execution_count": 2,
   "outputs": [],
   "source": [
    "import geopandas\n",
    "import ee\n",
    "import geemap.foliumap as geemap\n",
    "import geemap as gee\n",
    "\n",
    "import numpy as np\n",
    "import matplotlib.pyplot as plt\n",
    "import folium\n",
    "import requests\n",
    "import rasterio\n",
    "from rasterio.plot import show"
   ],
   "metadata": {
    "collapsed": false,
    "ExecuteTime": {
     "start_time": "2023-04-03T16:56:53.154549Z",
     "end_time": "2023-04-03T16:56:55.904530Z"
    }
   }
  },
  {
   "cell_type": "code",
   "execution_count": 9,
   "outputs": [],
   "source": [
    "def extract_pixel_value(img, region,bandName, scale):\n",
    "  \"\"\"Extract pixel value from an image for a given region\"\"\"\n",
    "  value = img.reduceRegion(\n",
    "      reducer=ee.Reducer.mean(),\n",
    "      geometry=region,\n",
    "      scale=scale,\n",
    "      maxPixels=1e9\n",
    "  ).get(bandName)\n",
    "  return value\n",
    "\n",
    "\n",
    "# ##### Define a method for displaying Earth Engine image tiles to folium map\n",
    "def add_ee_layer(self, ee_image_object, vis_params, name):\n",
    "    map_id_dict = ee.Image(ee_image_object).getMapId(vis_params)\n",
    "    layer = folium.raster_layers.TileLayer(\n",
    "        tiles=map_id_dict['tile_fetcher'].url_format,\n",
    "        attr='Map Data &copy; <a href=\"https://earthengine.google.com/\">Google Earth Engine</a>',\n",
    "        name=name,\n",
    "        overlay=True,\n",
    "        control=True\n",
    "    )\n",
    "    layer.add_to(self)\n",
    "    return layer"
   ],
   "metadata": {
    "collapsed": false,
    "ExecuteTime": {
     "start_time": "2023-04-03T17:00:56.675619Z",
     "end_time": "2023-04-03T17:00:56.683779Z"
    }
   }
  },
  {
   "cell_type": "code",
   "execution_count": 47,
   "outputs": [
    {
     "data": {
      "text/plain": "<folium.folium.Map at 0x22473f26880>",
      "text/html": "<div style=\"width:100%;\"><div style=\"position:relative;width:100%;height:0;padding-bottom:60%;\"><span style=\"color:#565656\">Make this Notebook Trusted to load map: File -> Trust Notebook</span><iframe srcdoc=\"&lt;!DOCTYPE html&gt;\n&lt;html&gt;\n&lt;head&gt;\n    \n    &lt;meta http-equiv=&quot;content-type&quot; content=&quot;text/html; charset=UTF-8&quot; /&gt;\n    \n        &lt;script&gt;\n            L_NO_TOUCH = false;\n            L_DISABLE_3D = false;\n        &lt;/script&gt;\n    \n    &lt;style&gt;html, body {width: 100%;height: 100%;margin: 0;padding: 0;}&lt;/style&gt;\n    &lt;style&gt;#map {position:absolute;top:0;bottom:0;right:0;left:0;}&lt;/style&gt;\n    &lt;script src=&quot;https://cdn.jsdelivr.net/npm/leaflet@1.9.3/dist/leaflet.js&quot;&gt;&lt;/script&gt;\n    &lt;script src=&quot;https://code.jquery.com/jquery-1.12.4.min.js&quot;&gt;&lt;/script&gt;\n    &lt;script src=&quot;https://cdn.jsdelivr.net/npm/bootstrap@5.2.2/dist/js/bootstrap.bundle.min.js&quot;&gt;&lt;/script&gt;\n    &lt;script src=&quot;https://cdnjs.cloudflare.com/ajax/libs/Leaflet.awesome-markers/2.0.2/leaflet.awesome-markers.js&quot;&gt;&lt;/script&gt;\n    &lt;link rel=&quot;stylesheet&quot; href=&quot;https://cdn.jsdelivr.net/npm/leaflet@1.9.3/dist/leaflet.css&quot;/&gt;\n    &lt;link rel=&quot;stylesheet&quot; href=&quot;https://cdn.jsdelivr.net/npm/bootstrap@5.2.2/dist/css/bootstrap.min.css&quot;/&gt;\n    &lt;link rel=&quot;stylesheet&quot; href=&quot;https://netdna.bootstrapcdn.com/bootstrap/3.0.0/css/bootstrap.min.css&quot;/&gt;\n    &lt;link rel=&quot;stylesheet&quot; href=&quot;https://cdn.jsdelivr.net/npm/@fortawesome/fontawesome-free@6.2.0/css/all.min.css&quot;/&gt;\n    &lt;link rel=&quot;stylesheet&quot; href=&quot;https://cdnjs.cloudflare.com/ajax/libs/Leaflet.awesome-markers/2.0.2/leaflet.awesome-markers.css&quot;/&gt;\n    &lt;link rel=&quot;stylesheet&quot; href=&quot;https://cdn.jsdelivr.net/gh/python-visualization/folium/folium/templates/leaflet.awesome.rotate.min.css&quot;/&gt;\n    \n            &lt;meta name=&quot;viewport&quot; content=&quot;width=device-width,\n                initial-scale=1.0, maximum-scale=1.0, user-scalable=no&quot; /&gt;\n            &lt;style&gt;\n                #map_673bb9e1bcadf457be182d9f0af5b35e {\n                    position: relative;\n                    width: 100.0%;\n                    height: 100.0%;\n                    left: 0.0%;\n                    top: 0.0%;\n                }\n                .leaflet-container { font-size: 1rem; }\n            &lt;/style&gt;\n        \n&lt;/head&gt;\n&lt;body&gt;\n    \n    \n            &lt;div class=&quot;folium-map&quot; id=&quot;map_673bb9e1bcadf457be182d9f0af5b35e&quot; &gt;&lt;/div&gt;\n        \n&lt;/body&gt;\n&lt;script&gt;\n    \n    \n            var map_673bb9e1bcadf457be182d9f0af5b35e = L.map(\n                &quot;map_673bb9e1bcadf457be182d9f0af5b35e&quot;,\n                {\n                    center: [-22.1088019, 166.49695769049998],\n                    crs: L.CRS.EPSG3857,\n                    zoom: 12,\n                    zoomControl: true,\n                    preferCanvas: false,\n                }\n            );\n\n            \n\n        \n    \n            var tile_layer_facc469cb51b5a796a41af7c7922699f = L.tileLayer(\n                &quot;https://{s}.tile.openstreetmap.org/{z}/{x}/{y}.png&quot;,\n                {&quot;attribution&quot;: &quot;Data by \\u0026copy; \\u003ca target=\\&quot;_blank\\&quot; href=\\&quot;http://openstreetmap.org\\&quot;\\u003eOpenStreetMap\\u003c/a\\u003e, under \\u003ca target=\\&quot;_blank\\&quot; href=\\&quot;http://www.openstreetmap.org/copyright\\&quot;\\u003eODbL\\u003c/a\\u003e.&quot;, &quot;detectRetina&quot;: false, &quot;maxNativeZoom&quot;: 18, &quot;maxZoom&quot;: 18, &quot;minZoom&quot;: 0, &quot;noWrap&quot;: false, &quot;opacity&quot;: 1, &quot;subdomains&quot;: &quot;abc&quot;, &quot;tms&quot;: false}\n            ).addTo(map_673bb9e1bcadf457be182d9f0af5b35e);\n        \n    \n\n        function geo_json_db1bd56c4678fe4e84d59ed3e9595fc5_onEachFeature(feature, layer) {\n            layer.on({\n            });\n        };\n        var geo_json_db1bd56c4678fe4e84d59ed3e9595fc5 = L.geoJson(null, {\n                onEachFeature: geo_json_db1bd56c4678fe4e84d59ed3e9595fc5_onEachFeature,\n            \n        });\n\n        function geo_json_db1bd56c4678fe4e84d59ed3e9595fc5_add (data) {\n            geo_json_db1bd56c4678fe4e84d59ed3e9595fc5\n                .addData(data)\n                .addTo(map_673bb9e1bcadf457be182d9f0af5b35e);\n        }\n            geo_json_db1bd56c4678fe4e84d59ed3e9595fc5_add({&quot;coordinates&quot;: [[[166.387779807, -22.2276038], [166.387779807, -22.039679148], [166.5, -21.99], [166.606135574, -22.039679148], [166.606135574, -22.2276038]]], &quot;evenOdd&quot;: true, &quot;type&quot;: &quot;Polygon&quot;});\n\n        \n    \n\n        function geo_json_f98c7d14b29f06bd71055a6440747b73_onEachFeature(feature, layer) {\n            layer.on({\n            });\n        };\n        var geo_json_f98c7d14b29f06bd71055a6440747b73 = L.geoJson(null, {\n                onEachFeature: geo_json_f98c7d14b29f06bd71055a6440747b73_onEachFeature,\n            \n        });\n\n        function geo_json_f98c7d14b29f06bd71055a6440747b73_add (data) {\n            geo_json_f98c7d14b29f06bd71055a6440747b73\n                .addData(data)\n                .addTo(map_673bb9e1bcadf457be182d9f0af5b35e);\n        }\n            geo_json_f98c7d14b29f06bd71055a6440747b73_add({&quot;coordinates&quot;: [[[166.387779807, -22.2276038], [166.387779807, -22.039679148], [166.5, -21.99], [166.606135574, -22.039679148], [166.606135574, -22.2276038]]], &quot;evenOdd&quot;: true, &quot;type&quot;: &quot;Polygon&quot;});\n\n        \n&lt;/script&gt;\n&lt;/html&gt;\" style=\"position:absolute;width:100%;height:100%;left:0;top:0;border:none !important;\" allowfullscreen webkitallowfullscreen mozallowfullscreen></iframe></div></div>"
     },
     "metadata": {},
     "output_type": "display_data"
    }
   ],
   "source": [
    "def extract_gee_data(spec_file_path: str, data):\n",
    "    # découper chaque géométrie en sous géométrie ayant une valeur unique fournie par GEE\n",
    "    gfc = ee.Image(\"UMD/hansen/global_forest_change_2021_v1_9\")\n",
    "\n",
    "    output = []\n",
    "    for input_zone in data:\n",
    "        image = gfc.clip(input_zone)\n",
    "        bands_list = image.getInfo()['bands']\n",
    "        band = bands_list[0]\n",
    "        width = band['dimensions'][0]\n",
    "        height = band['dimensions'][1]\n",
    "        treecover = image.select(band['id'])\n",
    "        scale = image.projection().nominalScale().getInfo()\n",
    "\n",
    "        reduction = treecover.reduceToVectors(\n",
    "            geometry=None,\n",
    "            crs=image.projection(),\n",
    "            scale=scale,\n",
    "            geometryType='polygon',\n",
    "            eightConnected=True,\n",
    "            labelProperty='zone',\n",
    "            maxPixels=1e15,\n",
    "            tileScale=16\n",
    "        )\n",
    "        output.append(input_zone)\n",
    "\n",
    "    return output\n",
    "\n",
    "    # OU\n",
    "\n",
    "    # donner min, max, mean pour chaque géométrie donnée en entrée\n",
    "\n",
    "\n",
    "ee.Initialize()\n",
    "ma_zone = ee.Geometry.Polygon([[[166.387779807,-22.2276038],[166.387779807,-22.039679148],[166.50,-21.99],[166.606135574,-22.039679148],[166.606135574,-22.2276038]]])\n",
    "result = extract_gee_data('', [ma_zone])\n",
    "folium.Map.add_ee_layer = add_ee_layer\n",
    "map = folium.Map(location=[(-22.2276038+-21.99)/2,(166.606135574+166.387779807)/2], zoom_start=12)\n",
    "folium.GeoJson(ma_zone.toGeoJSON()).add_to(map)\n",
    "for zone in result:\n",
    "    folium.GeoJson(zone.toGeoJSON()).add_to(map)\n",
    "display(map)"
   ],
   "metadata": {
    "collapsed": false,
    "ExecuteTime": {
     "start_time": "2023-04-04T10:42:34.358624Z",
     "end_time": "2023-04-04T10:42:40.591770Z"
    }
   }
  },
  {
   "cell_type": "code",
   "execution_count": null,
   "outputs": [],
   "source": [
    "gfc = ee.Image(\"UMD/hansen/global_forest_change_2021_v1_9\")\n",
    "image = gfc.clip(ma_zone)\n",
    "bands_list = image.getInfo()['bands']\n",
    "band = bands_list[0]\n",
    "width = band['dimensions'][0]\n",
    "height = band['dimensions'][1]\n",
    "treecover = image.select(band['id'])\n",
    "scale = image.projection().nominalScale().getInfo()\n",
    "\n",
    "# https://developers.google.com/earth-engine/guides/reducers_reduce_to_vectors\n",
    "vectors = treecover.reduceToVectors(\n",
    "    geometry=None,\n",
    "    crs=image.projection(),\n",
    "    scale=scale,\n",
    "    geometryType='polygon',\n",
    "    eightConnected=True,\n",
    "    labelProperty='zone',\n",
    "    maxPixels=1e15,\n",
    "    tileScale=16\n",
    ").geometry()\n",
    "result = ee.FeatureCollection([ee.Feature(vectors)])\n",
    "map.add_ee_layer(result, {'min': 0.0, 'max': 100.0, 'palette': ['ffffff', 'ffbbbb', '0000ff']}, \"toto\")\n",
    "display(map)"
   ],
   "metadata": {
    "collapsed": false,
    "ExecuteTime": {
     "start_time": "2023-04-04T10:51:24.004795Z",
     "end_time": "2023-04-04T10:52:04.027299Z"
    }
   }
  },
  {
   "cell_type": "code",
   "execution_count": 82,
   "outputs": [
    {
     "data": {
      "text/plain": "<folium.folium.Map at 0x22473f26880>",
      "text/html": "<div style=\"width:100%;\"><div style=\"position:relative;width:100%;height:0;padding-bottom:60%;\"><span style=\"color:#565656\">Make this Notebook Trusted to load map: File -> Trust Notebook</span><iframe srcdoc=\"&lt;!DOCTYPE html&gt;\n&lt;html&gt;\n&lt;head&gt;\n    \n    &lt;meta http-equiv=&quot;content-type&quot; content=&quot;text/html; charset=UTF-8&quot; /&gt;\n    \n        &lt;script&gt;\n            L_NO_TOUCH = false;\n            L_DISABLE_3D = false;\n        &lt;/script&gt;\n    \n    &lt;style&gt;html, body {width: 100%;height: 100%;margin: 0;padding: 0;}&lt;/style&gt;\n    &lt;style&gt;#map {position:absolute;top:0;bottom:0;right:0;left:0;}&lt;/style&gt;\n    &lt;script src=&quot;https://cdn.jsdelivr.net/npm/leaflet@1.9.3/dist/leaflet.js&quot;&gt;&lt;/script&gt;\n    &lt;script src=&quot;https://code.jquery.com/jquery-1.12.4.min.js&quot;&gt;&lt;/script&gt;\n    &lt;script src=&quot;https://cdn.jsdelivr.net/npm/bootstrap@5.2.2/dist/js/bootstrap.bundle.min.js&quot;&gt;&lt;/script&gt;\n    &lt;script src=&quot;https://cdnjs.cloudflare.com/ajax/libs/Leaflet.awesome-markers/2.0.2/leaflet.awesome-markers.js&quot;&gt;&lt;/script&gt;\n    &lt;link rel=&quot;stylesheet&quot; href=&quot;https://cdn.jsdelivr.net/npm/leaflet@1.9.3/dist/leaflet.css&quot;/&gt;\n    &lt;link rel=&quot;stylesheet&quot; href=&quot;https://cdn.jsdelivr.net/npm/bootstrap@5.2.2/dist/css/bootstrap.min.css&quot;/&gt;\n    &lt;link rel=&quot;stylesheet&quot; href=&quot;https://netdna.bootstrapcdn.com/bootstrap/3.0.0/css/bootstrap.min.css&quot;/&gt;\n    &lt;link rel=&quot;stylesheet&quot; href=&quot;https://cdn.jsdelivr.net/npm/@fortawesome/fontawesome-free@6.2.0/css/all.min.css&quot;/&gt;\n    &lt;link rel=&quot;stylesheet&quot; href=&quot;https://cdnjs.cloudflare.com/ajax/libs/Leaflet.awesome-markers/2.0.2/leaflet.awesome-markers.css&quot;/&gt;\n    &lt;link rel=&quot;stylesheet&quot; href=&quot;https://cdn.jsdelivr.net/gh/python-visualization/folium/folium/templates/leaflet.awesome.rotate.min.css&quot;/&gt;\n    \n            &lt;meta name=&quot;viewport&quot; content=&quot;width=device-width,\n                initial-scale=1.0, maximum-scale=1.0, user-scalable=no&quot; /&gt;\n            &lt;style&gt;\n                #map_673bb9e1bcadf457be182d9f0af5b35e {\n                    position: relative;\n                    width: 100.0%;\n                    height: 100.0%;\n                    left: 0.0%;\n                    top: 0.0%;\n                }\n                .leaflet-container { font-size: 1rem; }\n            &lt;/style&gt;\n        \n&lt;/head&gt;\n&lt;body&gt;\n    \n    \n            &lt;div class=&quot;folium-map&quot; id=&quot;map_673bb9e1bcadf457be182d9f0af5b35e&quot; &gt;&lt;/div&gt;\n        \n&lt;/body&gt;\n&lt;script&gt;\n    \n    \n            var map_673bb9e1bcadf457be182d9f0af5b35e = L.map(\n                &quot;map_673bb9e1bcadf457be182d9f0af5b35e&quot;,\n                {\n                    center: [-22.1088019, 166.49695769049998],\n                    crs: L.CRS.EPSG3857,\n                    zoom: 12,\n                    zoomControl: true,\n                    preferCanvas: false,\n                }\n            );\n\n            \n\n        \n    \n            var tile_layer_facc469cb51b5a796a41af7c7922699f = L.tileLayer(\n                &quot;https://{s}.tile.openstreetmap.org/{z}/{x}/{y}.png&quot;,\n                {&quot;attribution&quot;: &quot;Data by \\u0026copy; \\u003ca target=\\&quot;_blank\\&quot; href=\\&quot;http://openstreetmap.org\\&quot;\\u003eOpenStreetMap\\u003c/a\\u003e, under \\u003ca target=\\&quot;_blank\\&quot; href=\\&quot;http://www.openstreetmap.org/copyright\\&quot;\\u003eODbL\\u003c/a\\u003e.&quot;, &quot;detectRetina&quot;: false, &quot;maxNativeZoom&quot;: 18, &quot;maxZoom&quot;: 18, &quot;minZoom&quot;: 0, &quot;noWrap&quot;: false, &quot;opacity&quot;: 1, &quot;subdomains&quot;: &quot;abc&quot;, &quot;tms&quot;: false}\n            ).addTo(map_673bb9e1bcadf457be182d9f0af5b35e);\n        \n    \n\n        function geo_json_db1bd56c4678fe4e84d59ed3e9595fc5_onEachFeature(feature, layer) {\n            layer.on({\n            });\n        };\n        var geo_json_db1bd56c4678fe4e84d59ed3e9595fc5 = L.geoJson(null, {\n                onEachFeature: geo_json_db1bd56c4678fe4e84d59ed3e9595fc5_onEachFeature,\n            \n        });\n\n        function geo_json_db1bd56c4678fe4e84d59ed3e9595fc5_add (data) {\n            geo_json_db1bd56c4678fe4e84d59ed3e9595fc5\n                .addData(data)\n                .addTo(map_673bb9e1bcadf457be182d9f0af5b35e);\n        }\n            geo_json_db1bd56c4678fe4e84d59ed3e9595fc5_add({&quot;coordinates&quot;: [[[166.387779807, -22.2276038], [166.387779807, -22.039679148], [166.5, -21.99], [166.606135574, -22.039679148], [166.606135574, -22.2276038]]], &quot;evenOdd&quot;: true, &quot;type&quot;: &quot;Polygon&quot;});\n\n        \n    \n\n        function geo_json_f98c7d14b29f06bd71055a6440747b73_onEachFeature(feature, layer) {\n            layer.on({\n            });\n        };\n        var geo_json_f98c7d14b29f06bd71055a6440747b73 = L.geoJson(null, {\n                onEachFeature: geo_json_f98c7d14b29f06bd71055a6440747b73_onEachFeature,\n            \n        });\n\n        function geo_json_f98c7d14b29f06bd71055a6440747b73_add (data) {\n            geo_json_f98c7d14b29f06bd71055a6440747b73\n                .addData(data)\n                .addTo(map_673bb9e1bcadf457be182d9f0af5b35e);\n        }\n            geo_json_f98c7d14b29f06bd71055a6440747b73_add({&quot;coordinates&quot;: [[[166.387779807, -22.2276038], [166.387779807, -22.039679148], [166.5, -21.99], [166.606135574, -22.039679148], [166.606135574, -22.2276038]]], &quot;evenOdd&quot;: true, &quot;type&quot;: &quot;Polygon&quot;});\n\n        \n    \n            var tile_layer_b27e58514fd8a4ce776db0dc88314b0b = L.tileLayer(\n                &quot;https://earthengine.googleapis.com/v1alpha/projects/earthengine-legacy/maps/581dd15cc7a2a21d3c3b22784af58521-ed1cb4f03d2d460c77e3c16d856ff237/tiles/{z}/{x}/{y}&quot;,\n                {&quot;attribution&quot;: &quot;Map Data \\u0026copy; \\u003ca href=\\&quot;https://earthengine.google.com/\\&quot;\\u003eGoogle Earth Engine\\u003c/a\\u003e&quot;, &quot;detectRetina&quot;: false, &quot;maxNativeZoom&quot;: 18, &quot;maxZoom&quot;: 18, &quot;minZoom&quot;: 0, &quot;noWrap&quot;: false, &quot;opacity&quot;: 1, &quot;subdomains&quot;: &quot;abc&quot;, &quot;tms&quot;: false}\n            ).addTo(map_673bb9e1bcadf457be182d9f0af5b35e);\n        \n    \n            var tile_layer_e8835cd7d388fce6b7bb237b149c177a = L.tileLayer(\n                &quot;https://earthengine.googleapis.com/v1alpha/projects/earthengine-legacy/maps/581dd15cc7a2a21d3c3b22784af58521-ac4d5c653db25035eae7284708efc88d/tiles/{z}/{x}/{y}&quot;,\n                {&quot;attribution&quot;: &quot;Map Data \\u0026copy; \\u003ca href=\\&quot;https://earthengine.google.com/\\&quot;\\u003eGoogle Earth Engine\\u003c/a\\u003e&quot;, &quot;detectRetina&quot;: false, &quot;maxNativeZoom&quot;: 18, &quot;maxZoom&quot;: 18, &quot;minZoom&quot;: 0, &quot;noWrap&quot;: false, &quot;opacity&quot;: 1, &quot;subdomains&quot;: &quot;abc&quot;, &quot;tms&quot;: false}\n            ).addTo(map_673bb9e1bcadf457be182d9f0af5b35e);\n        \n    \n            var tile_layer_c9570b4ba2d508882e330960024d6e9b = L.tileLayer(\n                &quot;https://earthengine.googleapis.com/v1alpha/projects/earthengine-legacy/maps/581dd15cc7a2a21d3c3b22784af58521-1aca6b3bdaa1a8f8e7891afbee8a58b2/tiles/{z}/{x}/{y}&quot;,\n                {&quot;attribution&quot;: &quot;Map Data \\u0026copy; \\u003ca href=\\&quot;https://earthengine.google.com/\\&quot;\\u003eGoogle Earth Engine\\u003c/a\\u003e&quot;, &quot;detectRetina&quot;: false, &quot;maxNativeZoom&quot;: 18, &quot;maxZoom&quot;: 18, &quot;minZoom&quot;: 0, &quot;noWrap&quot;: false, &quot;opacity&quot;: 1, &quot;subdomains&quot;: &quot;abc&quot;, &quot;tms&quot;: false}\n            ).addTo(map_673bb9e1bcadf457be182d9f0af5b35e);\n        \n    \n            var tile_layer_f3723654dc004859de977ad99ec778f0 = L.tileLayer(\n                &quot;https://earthengine.googleapis.com/v1alpha/projects/earthengine-legacy/maps/581dd15cc7a2a21d3c3b22784af58521-de4d25f4e09f24e53ba263c16547427d/tiles/{z}/{x}/{y}&quot;,\n                {&quot;attribution&quot;: &quot;Map Data \\u0026copy; \\u003ca href=\\&quot;https://earthengine.google.com/\\&quot;\\u003eGoogle Earth Engine\\u003c/a\\u003e&quot;, &quot;detectRetina&quot;: false, &quot;maxNativeZoom&quot;: 18, &quot;maxZoom&quot;: 18, &quot;minZoom&quot;: 0, &quot;noWrap&quot;: false, &quot;opacity&quot;: 1, &quot;subdomains&quot;: &quot;abc&quot;, &quot;tms&quot;: false}\n            ).addTo(map_673bb9e1bcadf457be182d9f0af5b35e);\n        \n    \n            var tile_layer_844135487c45ebe99a5abee0c0320562 = L.tileLayer(\n                &quot;https://earthengine.googleapis.com/v1alpha/projects/earthengine-legacy/maps/581dd15cc7a2a21d3c3b22784af58521-3cfe29882b38810e7ab5ace873002c6d/tiles/{z}/{x}/{y}&quot;,\n                {&quot;attribution&quot;: &quot;Map Data \\u0026copy; \\u003ca href=\\&quot;https://earthengine.google.com/\\&quot;\\u003eGoogle Earth Engine\\u003c/a\\u003e&quot;, &quot;detectRetina&quot;: false, &quot;maxNativeZoom&quot;: 18, &quot;maxZoom&quot;: 18, &quot;minZoom&quot;: 0, &quot;noWrap&quot;: false, &quot;opacity&quot;: 1, &quot;subdomains&quot;: &quot;abc&quot;, &quot;tms&quot;: false}\n            ).addTo(map_673bb9e1bcadf457be182d9f0af5b35e);\n        \n    \n            var tile_layer_5be5015cb83ade2be2fcc7927eda4aa0 = L.tileLayer(\n                &quot;https://earthengine.googleapis.com/v1alpha/projects/earthengine-legacy/maps/581dd15cc7a2a21d3c3b22784af58521-5de8438a2df10ce8cc5d10c1c62c49b2/tiles/{z}/{x}/{y}&quot;,\n                {&quot;attribution&quot;: &quot;Map Data \\u0026copy; \\u003ca href=\\&quot;https://earthengine.google.com/\\&quot;\\u003eGoogle Earth Engine\\u003c/a\\u003e&quot;, &quot;detectRetina&quot;: false, &quot;maxNativeZoom&quot;: 18, &quot;maxZoom&quot;: 18, &quot;minZoom&quot;: 0, &quot;noWrap&quot;: false, &quot;opacity&quot;: 1, &quot;subdomains&quot;: &quot;abc&quot;, &quot;tms&quot;: false}\n            ).addTo(map_673bb9e1bcadf457be182d9f0af5b35e);\n        \n    \n            var tile_layer_fa24c7d9f7db5e6c06fd50e218f293d6 = L.tileLayer(\n                &quot;https://earthengine.googleapis.com/v1alpha/projects/earthengine-legacy/maps/581dd15cc7a2a21d3c3b22784af58521-4b59ee6964bdc5296946b898f396a719/tiles/{z}/{x}/{y}&quot;,\n                {&quot;attribution&quot;: &quot;Map Data \\u0026copy; \\u003ca href=\\&quot;https://earthengine.google.com/\\&quot;\\u003eGoogle Earth Engine\\u003c/a\\u003e&quot;, &quot;detectRetina&quot;: false, &quot;maxNativeZoom&quot;: 18, &quot;maxZoom&quot;: 18, &quot;minZoom&quot;: 0, &quot;noWrap&quot;: false, &quot;opacity&quot;: 1, &quot;subdomains&quot;: &quot;abc&quot;, &quot;tms&quot;: false}\n            ).addTo(map_673bb9e1bcadf457be182d9f0af5b35e);\n        \n    \n            var tile_layer_be81d2ad84a6b93ac6dd00cf03afe826 = L.tileLayer(\n                &quot;https://earthengine.googleapis.com/v1alpha/projects/earthengine-legacy/maps/3ab6cfa34751fb25d2c893e5fc056747-9ac8c2d0638cf97f6ff7363f531cc0b8/tiles/{z}/{x}/{y}&quot;,\n                {&quot;attribution&quot;: &quot;Map Data \\u0026copy; \\u003ca href=\\&quot;https://earthengine.google.com/\\&quot;\\u003eGoogle Earth Engine\\u003c/a\\u003e&quot;, &quot;detectRetina&quot;: false, &quot;maxNativeZoom&quot;: 18, &quot;maxZoom&quot;: 18, &quot;minZoom&quot;: 0, &quot;noWrap&quot;: false, &quot;opacity&quot;: 1, &quot;subdomains&quot;: &quot;abc&quot;, &quot;tms&quot;: false}\n            ).addTo(map_673bb9e1bcadf457be182d9f0af5b35e);\n        \n    \n            var tile_layer_d3cdd20ef92221558e2b13f1cbe4f1b7 = L.tileLayer(\n                &quot;https://earthengine.googleapis.com/v1alpha/projects/earthengine-legacy/maps/c1ddd5208238f03ef80c54b8edf43cb3-7285db84a368629dc7ade3e1a2aba127/tiles/{z}/{x}/{y}&quot;,\n                {&quot;attribution&quot;: &quot;Map Data \\u0026copy; \\u003ca href=\\&quot;https://earthengine.google.com/\\&quot;\\u003eGoogle Earth Engine\\u003c/a\\u003e&quot;, &quot;detectRetina&quot;: false, &quot;maxNativeZoom&quot;: 18, &quot;maxZoom&quot;: 18, &quot;minZoom&quot;: 0, &quot;noWrap&quot;: false, &quot;opacity&quot;: 1, &quot;subdomains&quot;: &quot;abc&quot;, &quot;tms&quot;: false}\n            ).addTo(map_673bb9e1bcadf457be182d9f0af5b35e);\n        \n    \n            var tile_layer_6b54d493b769c1b33e490a6d4a5a8615 = L.tileLayer(\n                &quot;https://earthengine.googleapis.com/v1alpha/projects/earthengine-legacy/maps/2b78c123b08a824dd2cbf73254978e9e-7507f0ea13629a459b5e46663acfe1e5/tiles/{z}/{x}/{y}&quot;,\n                {&quot;attribution&quot;: &quot;Map Data \\u0026copy; \\u003ca href=\\&quot;https://earthengine.google.com/\\&quot;\\u003eGoogle Earth Engine\\u003c/a\\u003e&quot;, &quot;detectRetina&quot;: false, &quot;maxNativeZoom&quot;: 18, &quot;maxZoom&quot;: 18, &quot;minZoom&quot;: 0, &quot;noWrap&quot;: false, &quot;opacity&quot;: 1, &quot;subdomains&quot;: &quot;abc&quot;, &quot;tms&quot;: false}\n            ).addTo(map_673bb9e1bcadf457be182d9f0af5b35e);\n        \n    \n            var tile_layer_a902fd7e661186d7ba467182ff070751 = L.tileLayer(\n                &quot;https://earthengine.googleapis.com/v1alpha/projects/earthengine-legacy/maps/4775cfda8e18499817221102f66f439b-ebcd2eb41ac748d03807f6b3c2a51d42/tiles/{z}/{x}/{y}&quot;,\n                {&quot;attribution&quot;: &quot;Map Data \\u0026copy; \\u003ca href=\\&quot;https://earthengine.google.com/\\&quot;\\u003eGoogle Earth Engine\\u003c/a\\u003e&quot;, &quot;detectRetina&quot;: false, &quot;maxNativeZoom&quot;: 18, &quot;maxZoom&quot;: 18, &quot;minZoom&quot;: 0, &quot;noWrap&quot;: false, &quot;opacity&quot;: 1, &quot;subdomains&quot;: &quot;abc&quot;, &quot;tms&quot;: false}\n            ).addTo(map_673bb9e1bcadf457be182d9f0af5b35e);\n        \n&lt;/script&gt;\n&lt;/html&gt;\" style=\"position:absolute;width:100%;height:100%;left:0;top:0;border:none !important;\" allowfullscreen webkitallowfullscreen mozallowfullscreen></iframe></div></div>"
     },
     "metadata": {},
     "output_type": "display_data"
    },
    {
     "data": {
      "text/plain": "<ee.image.Image at 0x22474343df0>",
      "text/html": "<div><style>:root {\n  --font-color-primary: var(--jp-content-font-color0, rgba(0, 0, 0, 1));\n  --font-color-secondary: var(--jp-content-font-color2, rgba(0, 0, 0, 0.6));\n  --font-color-accent: rgba(123, 31, 162, 1);\n  --border-color: var(--jp-border-color2, #e0e0e0);\n  --background-color: var(--jp-layout-color0, white);\n  --background-color-row-even: var(--jp-layout-color1, white);\n  --background-color-row-odd: var(--jp-layout-color2, #eeeeee);\n}\n\nhtml[theme=\"dark\"],\nbody[data-theme=\"dark\"],\nbody.vscode-dark {\n  --font-color-primary: rgba(255, 255, 255, 1);\n  --font-color-secondary: rgba(255, 255, 255, 0.6);\n  --font-color-accent: rgb(173, 132, 190);\n  --border-color: #2e2e2e;\n  --background-color: #111111;\n  --background-color-row-even: #111111;\n  --background-color-row-odd: #313131;\n}\n\n.ee {\n  padding: 1em;\n  line-height: 1.5em;\n  min-width: 300px;\n  max-width: 1200px;\n  overflow-y: scroll;\n  max-height: 600px;\n  border: 1px solid var(--border-color);\n  font-family: monospace;\n}\n\n.ee li {\n  list-style-type: none;\n}\n\n.ee ul {\n  padding-left: 1.5em !important;\n  margin: 0;\n}\n\n.ee > ul {\n  padding-left: 0 !important;\n}\n\n.ee-open,\n.ee-shut {\n  color: var(--font-color-secondary);\n  cursor: pointer;\n  margin: 0;\n}\n\n.ee-open:hover,\n.ee-shut:hover {\n  color: var(--font-color-primary);\n}\n\n.ee-k {\n  color: var(--font-color-accent);\n  margin-right: 6px;\n}\n\n.ee-v {\n  color: var(--font-color-primary);\n}\n\n.ee-toggle {\n  display: none;\n}\n\n.ee-shut + ul {\n  display: none;\n}\n\n.ee-open + ul {\n  display: block;\n}\n\n.ee-shut::before {\n  display: inline-block;\n  content: \"▼\";\n  margin-right: 6px;\n  transform: rotate(-90deg);\n  transition: transform 0.2s;\n}\n\n.ee-open::before {\n  transform: rotate(0deg);\n  display: inline-block;\n  content: \"▼\";\n  margin-right: 6px;\n  transition: transform 0.2s;\n}\n</style><div class='ee'><ul><li><label class='ee-shut'>Image (1 band)<input type='checkbox' class='ee-toggle'></label><ul><li><span class='ee-k'>type:</span><span class='ee-v'>Image</span></li><li><label class='ee-shut'>bands: List (1 element)<input type='checkbox' class='ee-toggle'></label><ul><li><label class='ee-shut'>0: \"treecover2000\", int ∈ [0, 2], EPSG:4326, 876x952 px<input type='checkbox' class='ee-toggle'></label><ul><li><span class='ee-k'>id:</span><span class='ee-v'>treecover2000</span></li><li><span class='ee-k'>crs:</span><span class='ee-v'>EPSG:4326</span></li><li><label class='ee-shut'>crs_transform: [0.00025, 0, -180, 0, -0.00025, 80]<input type='checkbox' class='ee-toggle'></label><ul><li><span class='ee-k'>0:</span><span class='ee-v'>0.00025</span></li><li><span class='ee-k'>1:</span><span class='ee-v'>0</span></li><li><span class='ee-k'>2:</span><span class='ee-v'>-180</span></li><li><span class='ee-k'>3:</span><span class='ee-v'>0</span></li><li><span class='ee-k'>4:</span><span class='ee-v'>-0.00025</span></li><li><span class='ee-k'>5:</span><span class='ee-v'>80</span></li></ul></li><li><label class='ee-shut'>data_type: int ∈ [0, 2]<input type='checkbox' class='ee-toggle'></label><ul><li><span class='ee-k'>type:</span><span class='ee-v'>PixelType</span></li><li><span class='ee-k'>max:</span><span class='ee-v'>2</span></li><li><span class='ee-k'>min:</span><span class='ee-v'>0</span></li><li><span class='ee-k'>precision:</span><span class='ee-v'>int</span></li></ul></li><li><label class='ee-shut'>dimensions: [876, 952]<input type='checkbox' class='ee-toggle'></label><ul><li><span class='ee-k'>0:</span><span class='ee-v'>876</span></li><li><span class='ee-k'>1:</span><span class='ee-v'>952</span></li></ul></li><li><label class='ee-shut'>origin: [1385550, 407959]<input type='checkbox' class='ee-toggle'></label><ul><li><span class='ee-k'>0:</span><span class='ee-v'>1385550</span></li><li><span class='ee-k'>1:</span><span class='ee-v'>407959</span></li></ul></li></ul></li></ul></li></ul></li></ul></div><script>function toggleHeader() {\n    const parent = this.parentElement;\n    parent.className = parent.className === \"ee-open\" ? \"ee-shut\" : \"ee-open\";\n}\n\nfor (let c of document.getElementsByClassName(\"ee-toggle\")) {\n    c.onclick = toggleHeader;\n}</script></div>"
     },
     "execution_count": 82,
     "metadata": {},
     "output_type": "execute_result"
    }
   ],
   "source": [
    "zones = treecover.gt(30).add(treecover.gt(60))\n",
    "# zones = zones.updateMask(zones.neq(0))\n",
    "vectors = zones.addBands(treecover).reduceToVectors(\n",
    "    geometry=None,\n",
    "    crs=image.projection(),\n",
    "    scale=scale,\n",
    "    geometryType='polygon',\n",
    "    eightConnected=False,\n",
    "    labelProperty='zone',\n",
    "    maxPixels=1e15,\n",
    "    tileScale=16\n",
    ")\n",
    "map.add_ee_layer(zones, {'min': 0, 'max': 2, 'palette': ['ffffff', '449152', '01330a']}, 'treecover')\n",
    "\n",
    "# Make a display image for the vectors, add it to the map.\n",
    "# display = ee.Image(0).updateMask(0).paint(vectors, '000000', 3)\n",
    "# map.add_ee_layer(ee.Image(0).updateMask(0).paint(vectors, '000000', 3), {'palette': '000000'}, 'vectors')\n",
    "display(map)"
   ],
   "metadata": {
    "collapsed": false,
    "ExecuteTime": {
     "start_time": "2023-04-04T11:39:31.348098Z",
     "end_time": "2023-04-04T11:39:34.262891Z"
    }
   }
  },
  {
   "cell_type": "code",
   "execution_count": 234,
   "outputs": [
    {
     "name": "stdout",
     "output_type": "stream",
     "text": [
      "[[[166.387779807, -22.2276038], [166.387779807, -22.039679148], [166.5, -21.99], [166.606135574, -22.039679148], [166.606135574, -22.2276038], [166.387779807, -22.2276038]]]\n",
      "{'type': 'Feature', 'geometry': {'geodesic': False, 'type': 'Polygon', 'coordinates': [[[166.393, -22.116], [166.393, -22.11625], [166.39275, -22.11625], [166.39275, -22.11675], [166.39325, -22.11675], [166.39325, -22.117], [166.39350000000002, -22.117], [166.39350000000002, -22.11675], [166.39375, -22.11675], [166.39375, -22.116500000000002], [166.39325, -22.116500000000002], [166.39325, -22.11625], [166.39350000000002, -22.11625], [166.39350000000002, -22.116], [166.393, -22.116]]]}, 'id': '+665573-88465', 'properties': {'max': 37, 'min': 37, 'zone': 37}}\n"
     ]
    },
    {
     "data": {
      "text/plain": "<folium.folium.Map at 0x224023f9490>",
      "text/html": "<div style=\"width:100%;\"><div style=\"position:relative;width:100%;height:0;padding-bottom:60%;\"><span style=\"color:#565656\">Make this Notebook Trusted to load map: File -> Trust Notebook</span><iframe srcdoc=\"&lt;!DOCTYPE html&gt;\n&lt;html&gt;\n&lt;head&gt;\n    \n    &lt;meta http-equiv=&quot;content-type&quot; content=&quot;text/html; charset=UTF-8&quot; /&gt;\n    \n        &lt;script&gt;\n            L_NO_TOUCH = false;\n            L_DISABLE_3D = false;\n        &lt;/script&gt;\n    \n    &lt;style&gt;html, body {width: 100%;height: 100%;margin: 0;padding: 0;}&lt;/style&gt;\n    &lt;style&gt;#map {position:absolute;top:0;bottom:0;right:0;left:0;}&lt;/style&gt;\n    &lt;script src=&quot;https://cdn.jsdelivr.net/npm/leaflet@1.9.3/dist/leaflet.js&quot;&gt;&lt;/script&gt;\n    &lt;script src=&quot;https://code.jquery.com/jquery-1.12.4.min.js&quot;&gt;&lt;/script&gt;\n    &lt;script src=&quot;https://cdn.jsdelivr.net/npm/bootstrap@5.2.2/dist/js/bootstrap.bundle.min.js&quot;&gt;&lt;/script&gt;\n    &lt;script src=&quot;https://cdnjs.cloudflare.com/ajax/libs/Leaflet.awesome-markers/2.0.2/leaflet.awesome-markers.js&quot;&gt;&lt;/script&gt;\n    &lt;link rel=&quot;stylesheet&quot; href=&quot;https://cdn.jsdelivr.net/npm/leaflet@1.9.3/dist/leaflet.css&quot;/&gt;\n    &lt;link rel=&quot;stylesheet&quot; href=&quot;https://cdn.jsdelivr.net/npm/bootstrap@5.2.2/dist/css/bootstrap.min.css&quot;/&gt;\n    &lt;link rel=&quot;stylesheet&quot; href=&quot;https://netdna.bootstrapcdn.com/bootstrap/3.0.0/css/bootstrap.min.css&quot;/&gt;\n    &lt;link rel=&quot;stylesheet&quot; href=&quot;https://cdn.jsdelivr.net/npm/@fortawesome/fontawesome-free@6.2.0/css/all.min.css&quot;/&gt;\n    &lt;link rel=&quot;stylesheet&quot; href=&quot;https://cdnjs.cloudflare.com/ajax/libs/Leaflet.awesome-markers/2.0.2/leaflet.awesome-markers.css&quot;/&gt;\n    &lt;link rel=&quot;stylesheet&quot; href=&quot;https://cdn.jsdelivr.net/gh/python-visualization/folium/folium/templates/leaflet.awesome.rotate.min.css&quot;/&gt;\n    \n            &lt;meta name=&quot;viewport&quot; content=&quot;width=device-width,\n                initial-scale=1.0, maximum-scale=1.0, user-scalable=no&quot; /&gt;\n            &lt;style&gt;\n                #map_b06733e1b63f0fffb86dfa8042788db6 {\n                    position: relative;\n                    width: 100.0%;\n                    height: 100.0%;\n                    left: 0.0%;\n                    top: 0.0%;\n                }\n                .leaflet-container { font-size: 1rem; }\n            &lt;/style&gt;\n        \n&lt;/head&gt;\n&lt;body&gt;\n    \n    \n            &lt;div class=&quot;folium-map&quot; id=&quot;map_b06733e1b63f0fffb86dfa8042788db6&quot; &gt;&lt;/div&gt;\n        \n&lt;/body&gt;\n&lt;script&gt;\n    \n    \n            var map_b06733e1b63f0fffb86dfa8042788db6 = L.map(\n                &quot;map_b06733e1b63f0fffb86dfa8042788db6&quot;,\n                {\n                    center: [-22.1088019, 166.49695769049998],\n                    crs: L.CRS.EPSG3857,\n                    zoom: 12,\n                    zoomControl: true,\n                    preferCanvas: false,\n                }\n            );\n\n            \n\n        \n    \n            var tile_layer_bda9439f936cace2f9f59e30260f3fc9 = L.tileLayer(\n                &quot;https://{s}.tile.openstreetmap.org/{z}/{x}/{y}.png&quot;,\n                {&quot;attribution&quot;: &quot;Data by \\u0026copy; \\u003ca target=\\&quot;_blank\\&quot; href=\\&quot;http://openstreetmap.org\\&quot;\\u003eOpenStreetMap\\u003c/a\\u003e, under \\u003ca target=\\&quot;_blank\\&quot; href=\\&quot;http://www.openstreetmap.org/copyright\\&quot;\\u003eODbL\\u003c/a\\u003e.&quot;, &quot;detectRetina&quot;: false, &quot;maxNativeZoom&quot;: 18, &quot;maxZoom&quot;: 18, &quot;minZoom&quot;: 0, &quot;noWrap&quot;: false, &quot;opacity&quot;: 1, &quot;subdomains&quot;: &quot;abc&quot;, &quot;tms&quot;: false}\n            ).addTo(map_b06733e1b63f0fffb86dfa8042788db6);\n        \n    \n\n        function geo_json_41128e005546b0423b763f9f93adb0f8_onEachFeature(feature, layer) {\n            layer.on({\n            });\n        };\n        var geo_json_41128e005546b0423b763f9f93adb0f8 = L.geoJson(null, {\n                onEachFeature: geo_json_41128e005546b0423b763f9f93adb0f8_onEachFeature,\n            \n        });\n\n        function geo_json_41128e005546b0423b763f9f93adb0f8_add (data) {\n            geo_json_41128e005546b0423b763f9f93adb0f8\n                .addData(data)\n                .addTo(map_b06733e1b63f0fffb86dfa8042788db6);\n        }\n            geo_json_41128e005546b0423b763f9f93adb0f8_add({&quot;features&quot;: [{&quot;geometry&quot;: {&quot;coordinates&quot;: [[[166.387779807, -22.2276038], [166.387779807, -22.039679148], [166.5, -21.99], [166.606135574, -22.039679148], [166.606135574, -22.2276038], [166.387779807, -22.2276038]]], &quot;type&quot;: &quot;Polygon&quot;}, &quot;id&quot;: &quot;0&quot;, &quot;properties&quot;: {}, &quot;type&quot;: &quot;Feature&quot;}], &quot;type&quot;: &quot;FeatureCollection&quot;});\n\n        \n    \n            var tile_layer_8cf3e5ea5d8a5faf9453b88e4a9807ae = L.tileLayer(\n                &quot;https://earthengine.googleapis.com/v1alpha/projects/earthengine-legacy/maps/653b4332ef1aeb76bddaaed0eb035697-80526ea592363d4dcd58add771e859a5/tiles/{z}/{x}/{y}&quot;,\n                {&quot;attribution&quot;: &quot;Map Data \\u0026copy; \\u003ca href=\\&quot;https://earthengine.google.com/\\&quot;\\u003eGoogle Earth Engine\\u003c/a\\u003e&quot;, &quot;detectRetina&quot;: false, &quot;maxNativeZoom&quot;: 18, &quot;maxZoom&quot;: 18, &quot;minZoom&quot;: 0, &quot;noWrap&quot;: false, &quot;opacity&quot;: 1, &quot;subdomains&quot;: &quot;abc&quot;, &quot;tms&quot;: false}\n            ).addTo(map_b06733e1b63f0fffb86dfa8042788db6);\n        \n&lt;/script&gt;\n&lt;/html&gt;\" style=\"position:absolute;width:100%;height:100%;left:0;top:0;border:none !important;\" allowfullscreen webkitallowfullscreen mozallowfullscreen></iframe></div></div>"
     },
     "metadata": {},
     "output_type": "display_data"
    }
   ],
   "source": [
    "# import des spécifications\n",
    "import yaml\n",
    "from yaml.loader import SafeLoader\n",
    "import geopandas as gpd\n",
    "from shapely.geometry import Polygon\n",
    "import json\n",
    "\n",
    "spec_file_path = './input_spec_example.yml'\n",
    "\n",
    "with open(spec_file_path) as f:\n",
    "    specs = yaml.load(f, Loader=SafeLoader)\n",
    "\n",
    "# création du fond de carte\n",
    "map = folium.Map(location=[(-22.2276038+-21.99)/2,(166.606135574+166.387779807)/2], zoom_start=12)\n",
    "\n",
    "# création de l'input : liste de geodataframe\n",
    "ma_zone_ee = ee.Geometry.Polygon([[[166.387779807,-22.2276038],[166.387779807,-22.039679148],[166.50,-21.99],[166.606135574,-22.039679148],[166.606135574,-22.2276038]]])\n",
    "coords = [(166.387779807,-22.2276038),(166.387779807,-22.039679148),(166.50,-21.99),(166.606135574,-22.039679148),(166.606135574,-22.2276038)]\n",
    "ma_zone = Polygon(coords)\n",
    "gdf = gpd.GeoDataFrame(crs=specs['epsg'], geometry=[ma_zone])\n",
    "input = gdf\n",
    "\n",
    "# affichage de la zone d'entrée sur la carte\n",
    "folium.GeoJson(gdf.to_json()).add_to(map)\n",
    "\n",
    "for geometry in input['geometry']:\n",
    "    xx, yy = geometry.exterior.coords.xy\n",
    "    coords = np.dstack((xx,yy)).tolist()\n",
    "    print(coords)\n",
    "    ee_zone = ee.Geometry.Polygon(coords)\n",
    "    image_zonee = ee.Image(specs['confRaster']['uri_image']).select(specs['keepList']).clip(ee_zone)\n",
    "    vectors = image_zonee.addBands(srcImg=image_zonee).reduceToVectors(\n",
    "        geometry=None,\n",
    "        crs=specs['epsg'],\n",
    "        scale=scale,\n",
    "        geometryType='polygon',\n",
    "        eightConnected=False,\n",
    "        labelProperty='zone',\n",
    "        maxPixels=1e15,\n",
    "        tileScale=16,\n",
    "        reducer=ee.Reducer.minMax()\n",
    "    )\n",
    "    print(vectors.toList(vectors.size()).get(5059).getInfo())\n",
    "    mapid = vectors.getMapId()\n",
    "    folium.TileLayer(\n",
    "        tiles=mapid['tile_fetcher'].url_format,\n",
    "        attr='Map Data &copy; <a href=\"https://earthengine.google.com/\">Google Earth Engine</a>',\n",
    "        overlay=True,\n",
    "        name='border',\n",
    "      ).add_to(map)\n",
    "\n",
    "display(map)"
   ],
   "metadata": {
    "collapsed": false,
    "ExecuteTime": {
     "start_time": "2023-04-04T16:02:11.363621Z",
     "end_time": "2023-04-04T16:02:18.893229Z"
    }
   }
  },
  {
   "cell_type": "code",
   "execution_count": null,
   "outputs": [],
   "source": [
    "# reducer=ee.Reducer.min()\n",
    "vectorList = vectors.toList(vectors.size())\n",
    "vectorList.get(0).getInfo()\n",
    "mapid = vectors.getMapId()\n",
    "map = folium.Map(location=[(-22.2276038+-21.99)/2,(166.606135574+166.387779807)/2], zoom_start=12)\n",
    "folium.TileLayer(\n",
    "    tiles=mapid['tile_fetcher'].url_format,\n",
    "    attr='Map Data &copy; <a href=\"https://earthengine.google.com/\">Google Earth Engine</a>',\n",
    "    overlay=True,\n",
    "    name='border',\n",
    "  ).add_to(map)\n",
    "display(map)"
   ],
   "metadata": {
    "collapsed": false,
    "ExecuteTime": {
     "start_time": "2023-04-04T12:05:41.458323Z",
     "end_time": "2023-04-04T12:05:53.606381Z"
    }
   }
  }
 ],
 "metadata": {
  "kernelspec": {
   "display_name": "Python 3",
   "language": "python",
   "name": "python3"
  },
  "language_info": {
   "codemirror_mode": {
    "name": "ipython",
    "version": 2
   },
   "file_extension": ".py",
   "mimetype": "text/x-python",
   "name": "python",
   "nbconvert_exporter": "python",
   "pygments_lexer": "ipython2",
   "version": "2.7.6"
  }
 },
 "nbformat": 4,
 "nbformat_minor": 0
}
