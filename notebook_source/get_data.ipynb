{
 "cells": [
  {
   "attachments": {},
   "cell_type": "markdown",
   "metadata": {},
   "source": [
    "# Accès au données GEE et réaliser des ananlyses spatiales avec des données locales"
   ]
  },
  {
   "attachments": {},
   "cell_type": "markdown",
   "metadata": {},
   "source": [
    "Disposer des librairies python gee"
   ]
  },
  {
   "cell_type": "code",
   "execution_count": null,
   "metadata": {},
   "outputs": [],
   "source": [
    "!pip install earthengine-api"
   ]
  },
  {
   "attachments": {},
   "cell_type": "markdown",
   "metadata": {},
   "source": [
    "Initialiser la connection avec l'API GEE"
   ]
  },
  {
   "cell_type": "code",
   "execution_count": null,
   "metadata": {
    "ExecuteTime": {
     "end_time": "2023-04-03T14:50:03.625466Z",
     "start_time": "2023-04-03T14:50:03.381388Z"
    }
   },
   "outputs": [],
   "source": [
    "import ee"
   ]
  },
  {
   "attachments": {},
   "cell_type": "markdown",
   "metadata": {},
   "source": [
    "## S'autentifier et autoriser l'API\n",
    "- Cette opération nécessite d'avoir un compte Google et d'authoriser l'API à accéder à notre compte google\n",
    "- Vous devrez alors vous connecter à votre compte Google à l'aide de vos identifiants de connexion.\n",
    "- Une fois connecté, vous devrez donner l'autorisation d'accès à Google Earth Engine. Cliquez sur \"Autoriser\" pour permettre à l'API de Google Earth Engine d'accéder à vos données.\n",
    "- Copiez le code d'authentification qui s'affiche sur la page Web et collez-le dans votre environnement Python pour finaliser l'opération d'authentification. Sur VScode c'est au milieu en haut de l'interface de l'application qu'une textBox s'affiche et dans l'aquelle il faut entrer le Token"
   ]
  },
  {
   "cell_type": "code",
   "execution_count": null,
   "metadata": {},
   "outputs": [],
   "source": [
    "ee.Authenticate()"
   ]
  },
  {
   "attachments": {},
   "cell_type": "markdown",
   "metadata": {},
   "source": [
    "Une fois l'opération d'authentification terminée, vous pourrez accéder aux données de Google Earth Engine et effectuer des analyses à l'aide de Python.\n",
    "\n",
    "Il est important de noter que l'opération d'authentification ne doit être effectuée qu'une seule fois, sauf si vous révoquez l'accès de l'API de Google Earth Engine à votre compte Google. Si vous rencontrez des problèmes avec l'authentification, assurez-vous que vous êtes connecté à votre compte Google et que vous avez donné l'autorisation d'accès à Google Earth Engine."
   ]
  },
  {
   "attachments": {},
   "cell_type": "markdown",
   "metadata": {},
   "source": [
    "## Initialiser la connection"
   ]
  },
  {
   "cell_type": "code",
   "execution_count": null,
   "metadata": {
    "ExecuteTime": {
     "end_time": "2023-04-03T14:50:15.553793Z",
     "start_time": "2023-04-03T14:50:10.208141Z"
    }
   },
   "outputs": [],
   "source": [
    "ee.Initialize()"
   ]
  },
  {
   "attachments": {},
   "cell_type": "markdown",
   "metadata": {},
   "source": [
    "## Importer les librairies qui vont nous permettre d'effectuer nos traitements et de visualiser nos resultats pour nos essais"
   ]
  },
  {
   "cell_type": "code",
   "execution_count": null,
   "metadata": {
    "ExecuteTime": {
     "end_time": "2023-04-03T14:50:28.588599Z",
     "start_time": "2023-04-03T14:50:25.933556Z"
    }
   },
   "outputs": [],
   "source": [
    "import geemap.foliumap as geemap\n",
    "import geemap as gee\n",
    "\n",
    "import numpy as np\n",
    "import matplotlib.pyplot as plt\n",
    "import folium\n",
    "import requests\n",
    "import rasterio\n",
    "from rasterio.plot import show"
   ]
  },
  {
   "cell_type": "code",
   "execution_count": null,
   "metadata": {
    "ExecuteTime": {
     "end_time": "2023-04-03T14:50:31.969428Z",
     "start_time": "2023-04-03T14:50:31.939458Z"
    }
   },
   "outputs": [],
   "source": [
    "# ##### Define a method for displaying Earth Engine image tiles to folium map\n",
    "def add_ee_layer(self, ee_image_object, vis_params, name):\n",
    "  map_id_dict = ee.Image(ee_image_object).getMapId(vis_params)\n",
    "  layer = folium.raster_layers.TileLayer(\n",
    "      tiles = map_id_dict['tile_fetcher'].url_format,\n",
    "      attr = 'Map Data &copy; <a href=\"https://earthengine.google.com/\">Google Earth Engine</a>',\n",
    "      name = name,\n",
    "      overlay = True,\n",
    "      control = True\n",
    "  )\n",
    "  layer.add_to(self)\n",
    "  return layer\n",
    "folium.Map.add_ee_layer = add_ee_layer"
   ]
  },
  {
   "cell_type": "code",
   "execution_count": null,
   "metadata": {
    "ExecuteTime": {
     "end_time": "2023-04-03T14:50:35.608904Z",
     "start_time": "2023-04-03T14:50:35.587562Z"
    }
   },
   "outputs": [],
   "source": [
    "def extract_pixel_value(img, region,bandName, scale):\n",
    "  \"\"\"Extract pixel value from an image for a given region\"\"\"\n",
    "  value = img.reduceRegion(\n",
    "      reducer=ee.Reducer.mean(),\n",
    "      geometry=region,\n",
    "      scale=scale,\n",
    "      maxPixels=1e9\n",
    "  ).get(bandName)\n",
    "  return value"
   ]
  },
  {
   "attachments": {},
   "cell_type": "markdown",
   "metadata": {},
   "source": [
    "Définir une région de travail "
   ]
  },
  {
   "cell_type": "code",
   "execution_count": null,
   "metadata": {
    "ExecuteTime": {
     "end_time": "2023-04-03T14:50:40.026293Z",
     "start_time": "2023-04-03T14:50:39.998751Z"
    }
   },
   "outputs": [],
   "source": [
    "region = ee.Geometry.Polygon(\n",
    "  [[[163.514541939,-22.843300096],[168.154310608,-22.847855092],[168.106086735,-19.52950213],[163.570176236,-19.525048733],[163.514541939,-22.843300096]]])"
   ]
  },
  {
   "cell_type": "code",
   "execution_count": null,
   "metadata": {
    "ExecuteTime": {
     "end_time": "2023-04-03T14:50:42.107684Z",
     "start_time": "2023-04-03T14:50:42.062255Z"
    }
   },
   "outputs": [],
   "source": [
    "GT = ee.Geometry.Polygon(\n",
    "  [[[1,-22],[1.1,-22.1],[168.106086735,-19.52950213],[163.570176236,-19.525048733],[163.514541939,-22.843300096]]])"
   ]
  },
  {
   "cell_type": "code",
   "execution_count": null,
   "metadata": {
    "ExecuteTime": {
     "end_time": "2023-04-03T14:50:43.583860Z",
     "start_time": "2023-04-03T14:50:43.537824Z"
    }
   },
   "outputs": [],
   "source": [
    "dumbea = ee.Geometry.Polygon([[[166.387779807,-22.2276038],[166.387779807,-22.039679148],[166.606135574,-22.039679148],[166.606135574,-22.2276038],[166.387779807,-22.2276038]]])"
   ]
  },
  {
   "cell_type": "code",
   "execution_count": null,
   "metadata": {
    "ExecuteTime": {
     "end_time": "2023-04-03T14:50:44.983777Z",
     "start_time": "2023-04-03T14:50:44.951749Z"
    }
   },
   "outputs": [],
   "source": [
    "gfcc = ee.ImageCollection('UMD/hansen/global_forest_change_2020').filterBounds(region)\n",
    "gfc = ee.Image(\"UMD/hansen/global_forest_change_2021_v1_9\")"
   ]
  },
  {
   "cell_type": "code",
   "execution_count": null,
   "metadata": {
    "ExecuteTime": {
     "end_time": "2023-04-03T14:50:47.742543Z",
     "start_time": "2023-04-03T14:50:46.941081Z"
    }
   },
   "outputs": [],
   "source": [
    "gfc"
   ]
  },
  {
   "cell_type": "code",
   "execution_count": null,
   "metadata": {
    "ExecuteTime": {
     "end_time": "2023-04-03T14:50:51.404297Z",
     "start_time": "2023-04-03T14:50:50.961134Z"
    }
   },
   "outputs": [],
   "source": [
    "image = gfc.clip(dumbea)\n",
    "image"
   ]
  },
  {
   "attachments": {},
   "cell_type": "markdown",
   "metadata": {},
   "source": [
    "Obtenir les informations sur l'image"
   ]
  },
  {
   "cell_type": "code",
   "execution_count": null,
   "metadata": {},
   "outputs": [],
   "source": [
    "# information pour chaque bands de l'image\n",
    "image.getInfo()"
   ]
  },
  {
   "cell_type": "code",
   "execution_count": null,
   "metadata": {
    "ExecuteTime": {
     "end_time": "2023-04-03T14:55:16.151352Z",
     "start_time": "2023-04-03T14:55:13.871352Z"
    }
   },
   "outputs": [],
   "source": [
    "# Sa projection\n",
    "\n",
    "image.projection().getInfo()"
   ]
  },
  {
   "cell_type": "code",
   "execution_count": null,
   "metadata": {
    "ExecuteTime": {
     "end_time": "2023-04-03T14:55:20.475223Z",
     "start_time": "2023-04-03T14:55:19.077969Z"
    }
   },
   "outputs": [],
   "source": [
    "# Obtenir l'échelle de la projection\n",
    "\n",
    "scale = image.projection().nominalScale().getInfo()\n",
    "scale"
   ]
  },
  {
   "cell_type": "code",
   "execution_count": null,
   "metadata": {
    "ExecuteTime": {
     "end_time": "2023-04-03T14:55:24.077410Z",
     "start_time": "2023-04-03T14:55:21.677520Z"
    }
   },
   "outputs": [],
   "source": [
    "projection , transform = image.projection().getInfo()['crs'] , image.projection().getInfo()['transform']"
   ]
  },
  {
   "cell_type": "code",
   "execution_count": null,
   "metadata": {
    "ExecuteTime": {
     "end_time": "2023-04-03T14:55:25.476476Z",
     "start_time": "2023-04-03T14:55:24.079524Z"
    }
   },
   "outputs": [],
   "source": [
    "bands_list = image.getInfo()['bands']"
   ]
  },
  {
   "attachments": {},
   "cell_type": "markdown",
   "metadata": {},
   "source": [
    "Pour obtenir des informations sur la bandes"
   ]
  },
  {
   "cell_type": "code",
   "execution_count": null,
   "metadata": {
    "ExecuteTime": {
     "end_time": "2023-04-03T14:55:28.542325Z",
     "start_time": "2023-04-03T14:55:28.454448Z"
    }
   },
   "outputs": [],
   "source": [
    "band = bands_list[0]\n",
    "band"
   ]
  },
  {
   "cell_type": "code",
   "execution_count": null,
   "metadata": {
    "ExecuteTime": {
     "end_time": "2023-04-03T14:55:31.657649Z",
     "start_time": "2023-04-03T14:55:31.552630Z"
    }
   },
   "outputs": [],
   "source": [
    "# Extraire les dimensions de l'image\n",
    "width = band['dimensions'][0]\n",
    "height = band['dimensions'][1]\n"
   ]
  },
  {
   "attachments": {},
   "cell_type": "markdown",
   "metadata": {},
   "source": [
    "Si on souhaite travailler sur une bande unique alors on indique quelle bande par son identifiant "
   ]
  },
  {
   "cell_type": "code",
   "execution_count": null,
   "metadata": {
    "ExecuteTime": {
     "end_time": "2023-04-03T14:57:03.150084Z",
     "start_time": "2023-04-03T14:57:03.041050Z"
    }
   },
   "outputs": [],
   "source": [
    "treecover = image.select(band['id'])\n",
    "treecover"
   ]
  },
  {
   "attachments": {},
   "cell_type": "markdown",
   "metadata": {},
   "source": [
    "# Extraire des informations / données de l'image"
   ]
  },
  {
   "attachments": {},
   "cell_type": "markdown",
   "metadata": {},
   "source": [
    "Pour vectoriser le raster on utilise reduceToVectors()"
   ]
  },
  {
   "cell_type": "code",
   "execution_count": null,
   "metadata": {
    "ExecuteTime": {
     "end_time": "2023-04-03T14:57:09.779109Z",
     "start_time": "2023-04-03T14:57:09.765551Z"
    }
   },
   "outputs": [],
   "source": [
    "reduction = treecover.reduceToVectors(\n",
    "    geometry = None,\n",
    "    crs = image.projection(),\n",
    "    scale = scale,\n",
    "    geometryType = 'polygon',\n",
    "    eightConnected = True,\n",
    "    labelProperty = 'zone',\n",
    "\n",
    "    maxPixels = 1e15,\n",
    "    tileScale = 16\n",
    ")"
   ]
  },
  {
   "attachments": {},
   "cell_type": "markdown",
   "metadata": {},
   "source": [
    "Il y a des limites fixé à 5000 objets lors de la génération "
   ]
  },
  {
   "cell_type": "code",
   "execution_count": null,
   "metadata": {},
   "outputs": [],
   "source": [
    "# la génération des objets ne ce fait qu'à partir de cette commande\n",
    "reduction.getInfo()"
   ]
  },
  {
   "cell_type": "code",
   "execution_count": null,
   "metadata": {
    "ExecuteTime": {
     "end_time": "2023-04-03T16:34:09.508970Z",
     "start_time": "2023-04-03T16:34:06.620696Z"
    },
    "collapsed": false
   },
   "outputs": [],
   "source": [
    "# si le nombre de vecteurs générés est plus grand que 5000, on découpe la forme de base et on recommence la réduction.\n",
    "\n",
    "reduction.size()"
   ]
  },
  {
   "cell_type": "code",
   "execution_count": null,
   "metadata": {
    "ExecuteTime": {
     "end_time": "2023-04-03T16:22:22.054873Z",
     "start_time": "2023-04-03T16:22:20.090589Z"
    }
   },
   "outputs": [],
   "source": [
    "reduction.limit(1).getInfo()"
   ]
  },
  {
   "attachments": {},
   "cell_type": "markdown",
   "metadata": {},
   "source": [
    "Afficher les 5000 objets sur une carte ici"
   ]
  },
  {
   "cell_type": "code",
   "execution_count": null,
   "metadata": {
    "ExecuteTime": {
     "end_time": "2023-04-03T14:57:20.595064Z",
     "start_time": "2023-04-03T14:57:20.582066Z"
    }
   },
   "outputs": [],
   "source": [
    "# instancier la carte\n",
    "map = folium.Map(location=[-22.00, 166.00], zoom_start=8)\n",
    "map"
   ]
  },
  {
   "cell_type": "code",
   "execution_count": null,
   "metadata": {
    "ExecuteTime": {
     "end_time": "2023-04-03T14:57:25.139303Z",
     "start_time": "2023-04-03T14:57:22.878135Z"
    }
   },
   "outputs": [],
   "source": [
    "#limiter le nombre d'objet et les ajouter à la carte\n",
    "reduction.getInfo()\n",
    "data = reduction.limit(500).getInfo()['features']\n",
    "data\n",
    "for feature in data:\n",
    "    geom = feature['geometry']\n",
    "    coords = geom['coordinates']\n",
    "    if geom['type'] == 'Polygon' or geom['type'] == 'MultiPolygon':\n",
    "        folium.GeoJson({\n",
    "            'type': geom['type'],\n",
    "            'coordinates': coords\n",
    "        }).add_to(map)"
   ]
  },
  {
   "cell_type": "code",
   "execution_count": null,
   "metadata": {
    "ExecuteTime": {
     "end_time": "2023-04-03T15:03:33.177863Z",
     "start_time": "2023-04-03T15:03:33.173862Z"
    }
   },
   "outputs": [],
   "source": [
    "#afficher la carte\n",
    "display(map)"
   ]
  },
  {
   "attachments": {},
   "cell_type": "markdown",
   "metadata": {},
   "source": [
    "## Obtenir des données uniquement à partir d'un seuil\n",
    "Dans notre cas nous souhaitons le treecover correspondant à 30% et +\n",
    "On applique donc un masque sur la donnée"
   ]
  },
  {
   "cell_type": "code",
   "execution_count": null,
   "metadata": {
    "ExecuteTime": {
     "end_time": "2023-04-03T14:57:27.061079Z",
     "start_time": "2023-04-03T14:57:27.047443Z"
    }
   },
   "outputs": [],
   "source": [
    "seuil = 30\n",
    "# Créer un masque pour les valeurs de pixel inférieures au seuil\n",
    "masque = gfc.gt(seuil)\n",
    "\n",
    "# Appliquer le masque à l'image\n",
    "image_filtree = gfc.updateMask(masque)\n",
    "\n"
   ]
  },
  {
   "attachments": {},
   "cell_type": "markdown",
   "metadata": {},
   "source": [
    "Nous souhaitons connaitre les valeurs distinct des classes d'objets présent dans l'image"
   ]
  },
  {
   "cell_type": "code",
   "execution_count": null,
   "metadata": {
    "ExecuteTime": {
     "end_time": "2023-04-03T14:57:35.263089Z",
     "start_time": "2023-04-03T14:57:32.015695Z"
    }
   },
   "outputs": [],
   "source": [
    "# donne les valeurs réduites\n",
    "dic_valeur = ee.Dictionary(\n",
    "    image_filtree.select(band['id']).reduceRegion(\n",
    "    geometry= dumbea,\n",
    "    reducer=ee.Reducer.toList(),\n",
    "    scale=scale, \n",
    "    maxPixels=1e13))\n",
    "dic_valeur\n"
   ]
  },
  {
   "cell_type": "code",
   "execution_count": null,
   "metadata": {
    "ExecuteTime": {
     "end_time": "2023-04-03T14:58:34.581735Z",
     "start_time": "2023-04-03T14:58:33.109130Z"
    }
   },
   "outputs": [],
   "source": [
    "ee.List(dic_valeur.get(band['id'])).distinct().getInfo()"
   ]
  },
  {
   "attachments": {},
   "cell_type": "markdown",
   "metadata": {},
   "source": [
    "## Extraire tous les pixels d'un zone"
   ]
  },
  {
   "attachments": {},
   "cell_type": "markdown",
   "metadata": {},
   "source": [
    "Attention il existe une limit dans la génération \n",
    "Too many pixels in sample; must be <= 262144."
   ]
  },
  {
   "cell_type": "code",
   "execution_count": null,
   "metadata": {},
   "outputs": [],
   "source": [
    "# nous devons extraire à partir d'un zone pour sampleRectangle\n",
    "# exemple avec dumbéa, la zone est trop grande\n",
    "i = gfc.select(band['id']).sampleRectangle(region=dumbea)\n",
    "i.get(band['id']).getInfo()"
   ]
  },
  {
   "attachments": {},
   "cell_type": "markdown",
   "metadata": {},
   "source": [
    "Réduire la zone à une taille <= 262144"
   ]
  },
  {
   "cell_type": "code",
   "execution_count": null,
   "metadata": {
    "ExecuteTime": {
     "end_time": "2023-04-03T14:58:54.527088Z",
     "start_time": "2023-04-03T14:58:54.517859Z"
    }
   },
   "outputs": [],
   "source": [
    "small_geom = ee.Geometry.Polygon(\n",
    "        [[[166.3890956644388, -22.07969187692815],\n",
    "          [166.3890956644388, -22.178282082312165],\n",
    "          [166.45913350623567, -22.178282082312165],\n",
    "          [166.45913350623567, -22.07969187692815]]]);"
   ]
  },
  {
   "cell_type": "code",
   "execution_count": null,
   "metadata": {
    "ExecuteTime": {
     "end_time": "2023-04-03T14:58:58.499653Z",
     "start_time": "2023-04-03T14:58:58.481949Z"
    }
   },
   "outputs": [],
   "source": [
    "i = gfc.select(band['id']).sampleRectangle(region=small_geom)"
   ]
  },
  {
   "attachments": {},
   "cell_type": "markdown",
   "metadata": {},
   "source": [
    "On peut maintenant convertir en Numpy Array"
   ]
  },
  {
   "cell_type": "code",
   "execution_count": null,
   "metadata": {
    "ExecuteTime": {
     "end_time": "2023-04-03T14:59:16.956600Z",
     "start_time": "2023-04-03T14:59:15.767166Z"
    }
   },
   "outputs": [],
   "source": [
    "np.array(i.get(band['id']).getInfo())"
   ]
  },
  {
   "attachments": {},
   "cell_type": "markdown",
   "metadata": {},
   "source": [
    "## Télécharger l'image via drive"
   ]
  },
  {
   "cell_type": "code",
   "execution_count": null,
   "metadata": {},
   "outputs": [],
   "source": [
    "task = ee.batch.Export.image.toDrive(\n",
    "  image=gfc,\n",
    "  description='image_gfc',\n",
    "  folder='gfc_folder',\n",
    "  fileNamePrefix=f\"gfc_image_{dumbea}\",\n",
    "  region=dumbea,\n",
    "  scale=scale)\n",
    "\n",
    "task.start()"
   ]
  },
  {
   "cell_type": "code",
   "execution_count": null,
   "metadata": {},
   "outputs": [],
   "source": [
    "task.status()"
   ]
  },
  {
   "attachments": {},
   "cell_type": "markdown",
   "metadata": {},
   "source": [
    "Palette de couleur pour la visualisation dans folium"
   ]
  },
  {
   "cell_type": "code",
   "execution_count": null,
   "metadata": {
    "ExecuteTime": {
     "end_time": "2023-04-03T14:59:55.154750Z",
     "start_time": "2023-04-03T14:59:55.131789Z"
    }
   },
   "outputs": [],
   "source": [
    "viz_1b_param = {'min': 0.5, 'max': 1, 'palette': ['00FFFF', '0000FF']}\n",
    "treecover2000_viz_params = {\n",
    "    'bands': ['treecover2000'],\n",
    "    'min': 0,\n",
    "    'max': 100,\n",
    "    'gamma': [0.95]\n",
    "}\n",
    "loss_viz_params = {\n",
    "    'bands': ['loss'],\n",
    "    'min': 0,\n",
    "    'max': 1,\n",
    "    'gamma': [0.95]\n",
    "}\n",
    "lossyear_viz_params = {\n",
    "    'bands': ['lossyear'],\n",
    "    'min': 0,\n",
    "    'max': 21,\n",
    "    'gamma': [0.95]\n",
    "}\n"
   ]
  },
  {
   "cell_type": "code",
   "execution_count": null,
   "metadata": {
    "ExecuteTime": {
     "end_time": "2023-04-03T15:00:01.644612Z",
     "start_time": "2023-04-03T15:00:00.946532Z"
    }
   },
   "outputs": [],
   "source": [
    "url = image.getDownloadURL({\n",
    "    'scale': 100,\n",
    "    'crs': 'EPSG:4326'\n",
    "})"
   ]
  },
  {
   "cell_type": "code",
   "execution_count": null,
   "metadata": {
    "ExecuteTime": {
     "end_time": "2023-04-03T15:00:04.830062Z",
     "start_time": "2023-04-03T15:00:03.002117Z"
    }
   },
   "outputs": [],
   "source": [
    "response = requests.get(url)\n",
    "response"
   ]
  },
  {
   "cell_type": "code",
   "execution_count": null,
   "metadata": {
    "ExecuteTime": {
     "end_time": "2023-04-03T15:00:27.184343Z",
     "start_time": "2023-04-03T15:00:25.693509Z"
    }
   },
   "outputs": [],
   "source": [
    "ee.Image(gfc).getMapId(lossyear_viz_params)"
   ]
  },
  {
   "cell_type": "code",
   "execution_count": null,
   "metadata": {
    "ExecuteTime": {
     "end_time": "2023-04-03T15:00:33.222799Z",
     "start_time": "2023-04-03T15:00:33.190605Z"
    }
   },
   "outputs": [],
   "source": [
    "masked_image = gfc.mask(gfc)"
   ]
  },
  {
   "attachments": {},
   "cell_type": "markdown",
   "metadata": {},
   "source": [
    "# Obtenir des statistiques des données Raster sur GEE à partir des géometries vectorielles locales\n"
   ]
  },
  {
   "attachments": {},
   "cell_type": "markdown",
   "metadata": {},
   "source": [
    " (sans téléchargement ou convertion des données) \n",
    " Exemple avec l'utilisation d'une image landsat\n",
    " - Création de plusieurs rectangles (BBOX), ayant un attribut \"name\"\n",
    " - Récupération des statistiques (valeurs moyennes des pixels dans la zone) grace à reduceRegions et son parametre reducer\n",
    " "
   ]
  },
  {
   "cell_type": "code",
   "execution_count": null,
   "metadata": {
    "ExecuteTime": {
     "end_time": "2023-04-03T15:01:08.828120Z",
     "start_time": "2023-04-03T15:01:00.782666Z"
    }
   },
   "outputs": [],
   "source": [
    "imageLandsat = ee.Image('LANDSAT/LC08/C01/T1_TOA/LC08_044034_20140318')\n",
    "\n",
    "# Créer une collection de zones géographiques\n",
    "polygons = ee.FeatureCollection([\n",
    "  ee.Feature(ee.Geometry.Rectangle([-122.6, 37.4, -122.3, 37.8]), {'name': 'zone 1'}),\n",
    "  ee.Feature(ee.Geometry.Rectangle([-122.5, 37.3, -122.2, 37.7]), {'name': 'zone 2'})\n",
    "])\n",
    "print(polygons.getInfo())\n",
    "\n",
    "# Agréger les valeurs de pixels sur les zones géographiques\n",
    "stats = imageLandsat.reduceRegions(\n",
    "  collection=polygons,\n",
    "  reducer=ee.Reducer.mean(),\n",
    "  scale=30\n",
    ")\n",
    "\n",
    "# Afficher les statistiques\n",
    "stats.getInfo()"
   ]
  },
  {
   "attachments": {},
   "cell_type": "markdown",
   "metadata": {},
   "source": [
    "Regardons sur une carte les superpositions des objets Image et Feature"
   ]
  },
  {
   "cell_type": "code",
   "execution_count": null,
   "metadata": {
    "ExecuteTime": {
     "end_time": "2023-04-03T15:02:55.525504Z",
     "start_time": "2023-04-03T15:02:50.846656Z"
    }
   },
   "outputs": [],
   "source": [
    "image = imageLandsat\n",
    "# lister les noms des bandes de l'image pour faire une représentation visuelle sur une carte de l'image\n",
    "bands = image.bandNames()\n",
    "bands.getInfo()\n",
    "\n",
    "features_geom = polygons\n",
    "\n",
    "bandList = bands.getInfo()[1:3]\n",
    "\n",
    "# emprise de la carte\n",
    "coords =  features_geom.geometry().bounds().getInfo()['coordinates'][0]\n",
    "\n",
    "# palette de couleurs pour les bandes 2,3,4\n",
    "palette = {\n",
    "    'bands': bandList,\n",
    "    'min': 0.0,\n",
    "    'max': 0.3,\n",
    "    'gamma': [0.95]\n",
    "}\n",
    "\n",
    "# initialisation de la carte avec ajout des layers\n",
    "map = folium.Map(location=[-22.00, 166.00], zoom_start=8)\n",
    "map.add_ee_layer(image, palette,'Test')\n",
    "map.add_child(folium.GeoJson(data=features_geom.getInfo()))\n",
    "map.fit_bounds(bounds=[[coords[0][1], coords[0][0]], [coords[2][1], coords[2][0]]])\n",
    "# Affichage\n",
    "display(map)"
   ]
  },
  {
   "attachments": {},
   "cell_type": "markdown",
   "metadata": {},
   "source": [
    "Même chose mais avec des données réelle sur la NC"
   ]
  },
  {
   "cell_type": "code",
   "execution_count": null,
   "metadata": {
    "ExecuteTime": {
     "end_time": "2023-04-03T15:21:17.612647Z",
     "start_time": "2023-04-03T15:21:17.585644Z"
    }
   },
   "outputs": [],
   "source": [
    "# scale = image.projection().nominalScale().getInfo()\n",
    "\n",
    "Poly = ee.FeatureCollection([\n",
    "  ee.Feature(ee.Geometry.Polygon(\n",
    "    [[[164.984719986043, -21.1539246685163],\n",
    "       [164.984880495297, -21.1539547962526], \n",
    "       [164.984865381124, -21.154025653579], \n",
    "       [164.984704871796, -21.1539955258281], \n",
    "       [164.984719986043, -21.1539246685163]]]\n",
    "    ),{\"id\": \"565\", \"commune\": \"POUEMBOUT\", \"province\": \"NORD\"})])\n",
    "\n",
    "features_geom = Poly\n",
    "image = gfc\n",
    "\n",
    "\n",
    "# Agréger les valeurs de pixels sur la zone géographique. On clip l'image sur une emprise réduite\n",
    "min = image.reduceRegions(\n",
    "  collection=features_geom,\n",
    "  reducer=ee.Reducer.min(),\n",
    ")\n",
    "\n",
    "max = image.reduceRegions(\n",
    "  collection=features_geom,\n",
    "  reducer=ee.Reducer.max(),\n",
    ")\n",
    "mean = image.reduceRegions(\n",
    "  collection=features_geom,\n",
    "  reducer=ee.Reducer.mean(),\n",
    ")\n"
   ]
  },
  {
   "cell_type": "code",
   "execution_count": null,
   "metadata": {
    "ExecuteTime": {
     "end_time": "2023-04-03T15:21:24.010306Z",
     "start_time": "2023-04-03T15:21:22.422510Z"
    }
   },
   "outputs": [],
   "source": [
    "\n",
    "# Afficher les statistiques\n",
    "mean.getInfo()\n"
   ]
  },
  {
   "cell_type": "code",
   "execution_count": null,
   "metadata": {
    "ExecuteTime": {
     "end_time": "2023-04-03T15:21:28.642967Z",
     "start_time": "2023-04-03T15:21:27.273501Z"
    }
   },
   "outputs": [],
   "source": [
    "max.getInfo()"
   ]
  },
  {
   "cell_type": "code",
   "execution_count": null,
   "metadata": {
    "ExecuteTime": {
     "end_time": "2023-04-03T15:21:33.785275Z",
     "start_time": "2023-04-03T15:21:32.466943Z"
    }
   },
   "outputs": [],
   "source": [
    "polygons.size().getInfo()"
   ]
  },
  {
   "attachments": {},
   "cell_type": "markdown",
   "metadata": {},
   "source": [
    "Regardons avec une représentation cartographique"
   ]
  },
  {
   "cell_type": "code",
   "execution_count": null,
   "metadata": {
    "ExecuteTime": {
     "end_time": "2023-04-03T15:21:41.862078Z",
     "start_time": "2023-04-03T15:21:35.684652Z"
    }
   },
   "outputs": [],
   "source": [
    "image = gfc\n",
    "\n",
    "# lister les noms des bandes de l'image pour faire une représentation visuelle sur une carte de l'image\n",
    "bands = image.bandNames()\n",
    "bands.getInfo()\n",
    "\n",
    "features_geom = Poly\n",
    "bandList = bands.getInfo()[0]\n",
    "\n",
    "# emprise de la carte\n",
    "coords =  features_geom.geometry().bounds().getInfo()['coordinates'][0]\n",
    "\n",
    "# palette de couleurs pour les bandes 2,3,4\n",
    "palette = {\n",
    "    'bands': bandList,\n",
    "    'min': 0.0,\n",
    "    'max': 100.0,\n",
    "    'gamma': [0.95]\n",
    "}\n",
    "\n",
    "# initialisation de la carte avec ajout des layers\n",
    "map = folium.Map(location=[-22.00, 166.00], zoom_start=8)\n",
    "map.add_ee_layer(image, palette,'Test')\n",
    "map.add_child(folium.GeoJson(data=features_geom.getInfo()))\n",
    "map.fit_bounds(bounds=[[coords[0][1], coords[0][0]], [coords[2][1], coords[2][0]]])\n",
    "\n",
    "display(map)"
   ]
  },
  {
   "attachments": {},
   "cell_type": "markdown",
   "metadata": {},
   "source": [
    "Il se peut que la zone géometrique soient en dehord de l'image. Dans ce cas vous obtiendrez des valeurs statisique moyenne = NONE\n",
    "\n",
    "Il se peut aussi selon le reducer utilisé que vous ayez des valeurs NONE. Cela est du au fait que votre géométrie ne contient aucun centroid de pixel (pour toutes les methodes statistique sauf mean()), ou qu  si vous utilisz mean() seulment <50% de pixel est dans la région."
   ]
  },
  {
   "attachments": {},
   "cell_type": "markdown",
   "metadata": {},
   "source": [
    "Pixels are determined to be in the region (and weighted) according to the following rules, applied in the specified scale and projection:\n",
    "\n",
    "    Unweighted reducers (e.g. ee.Reducer.count() or ee.Reducer.mean().unweighted()): pixels are included if their centroid is in the region and the image's mask is non-zero.\n",
    "    Weighted reducers (e.g. ee.Reducer.mean()): pixels are included if at least (approximately) 0.5% of the pixel is in the region and the image's mask is non-zero; their weight is the minimum of the image's mask and the (approximate) fraction of the pixel covered by the region.\n",
    "\n"
   ]
  },
  {
   "attachments": {},
   "cell_type": "markdown",
   "metadata": {},
   "source": [
    "Dans notre cas, la géométrie est petite et seule la moyenne peut revoyer des valeurs. Si nous souhaitons compter le nombre de pixel nous obtenons la valeur 0"
   ]
  },
  {
   "cell_type": "code",
   "execution_count": null,
   "metadata": {},
   "outputs": [],
   "source": [
    "stats = image.reduceRegions(\n",
    "  collection=features_geom,\n",
    "  reducer=ee.Reducer.count(),\n",
    ")\n",
    "\n",
    "# Afficher les statistiques\n",
    "stats.getInfo()"
   ]
  },
  {
   "attachments": {},
   "cell_type": "markdown",
   "metadata": {},
   "source": [
    "### Limitations\n",
    "le nombre maximum de pixel dans la région est atteint (1 0000 000 autorisés)\n",
    "\n",
    "The maxPixels parameter is needed to get the computation to succeed. If this parameter is left out of the example, an error is returned, which looks something like:\n",
    "Dictionary (Error)\n",
    "  Image.reduceRegion: Too many pixels in the region. Found 527001545, but only 10000000 allowed."
   ]
  },
  {
   "attachments": {},
   "cell_type": "markdown",
   "metadata": {},
   "source": [
    "# Calcul en condition quasi réelle en partant de données issues d'un service geojson du gouvernement de NC"
   ]
  },
  {
   "attachments": {},
   "cell_type": "markdown",
   "metadata": {},
   "source": [
    "Afin de se rapprocher du UC de nos traitements actuelle nous devons commencer le processus à partir d'un Geodataframe. ce type de format est fournis par notre catalogue Intake. "
   ]
  },
  {
   "cell_type": "code",
   "execution_count": null,
   "metadata": {
    "ExecuteTime": {
     "end_time": "2023-04-03T15:27:31.877068Z",
     "start_time": "2023-04-03T15:27:08.209475Z"
    }
   },
   "outputs": [],
   "source": [
    "import geopandas as gpd\n",
    "# Charger un GeoDataFrame de points représentant les villes de France\n",
    "gdf = gpd.read_file('https://opendata.arcgis.com/api/v3/datasets/b5a303d89f2f407e8c194983c86418a7_0/downloads/data?format=geojson&spatialRefId=4326&where=1%3D1')\n",
    "print(gdf.shape)\n"
   ]
  },
  {
   "cell_type": "code",
   "execution_count": null,
   "metadata": {
    "ExecuteTime": {
     "end_time": "2023-04-03T15:28:18.045918Z",
     "start_time": "2023-04-03T15:28:18.033397Z"
    }
   },
   "outputs": [],
   "source": [
    "gdf.crs"
   ]
  },
  {
   "attachments": {},
   "cell_type": "markdown",
   "metadata": {},
   "source": [
    "Pour les tests, nous n'exploiterons qu'un échantillons de 10 objet pour l'instant. A savoir que lors de nos traitements, nous effectuons des chuncks pouvant correspondre à ce nombre d'objet."
   ]
  },
  {
   "cell_type": "code",
   "execution_count": null,
   "metadata": {
    "ExecuteTime": {
     "end_time": "2023-04-03T15:39:14.848449Z",
     "start_time": "2023-04-03T15:39:14.837860Z"
    }
   },
   "outputs": [],
   "source": [
    "from datetime import datetime\n",
    "\n",
    "def convert_datetime_columns(gdf):\n",
    "    \"\"\"Convertit toutes les colonnes de type 'datetime64[ns]' ou 'timestamp' en chaînes de caractères au format 'YYYY-MM-DD HH:MM:SS'.\n",
    "    \n",
    "    Args:\n",
    "        gdf (geopandas.GeoDataFrame): Le GeoDataFrame contenant les colonnes de date à convertir.\n",
    "    \n",
    "    Returns:\n",
    "        geopandas.GeoDataFrame: Le GeoDataFrame avec les colonnes de date converties en chaînes de caractères.\n",
    "    \"\"\"\n",
    "    # Obtient une liste de toutes les colonnes de type 'datetime64[ns]' ou 'timestamp'\n",
    "    datetime_cols = gdf.select_dtypes(include=['datetime64[ns]','datetime64[ns, UTC]']).columns.tolist()\n",
    "    \n",
    "    # Convertit chaque colonne de date en chaînes de caractères\n",
    "    for col in datetime_cols:\n",
    "        gdf[col] = gdf[col].apply(lambda x: datetime.strftime(x, '%Y-%m-%d %H:%M:%S'))\n",
    "    \n",
    "    return gdf"
   ]
  },
  {
   "attachments": {},
   "cell_type": "markdown",
   "metadata": {},
   "source": [
    "Echantillon de 10 objet pour nos tests"
   ]
  },
  {
   "cell_type": "code",
   "execution_count": null,
   "metadata": {
    "ExecuteTime": {
     "end_time": "2023-04-03T15:39:25.076560Z",
     "start_time": "2023-04-03T15:39:25.046550Z"
    }
   },
   "outputs": [],
   "source": [
    "gdf = gdf.sample(10)\n",
    "gdf.dtypes\n",
    "\n",
    "gdf = convert_datetime_columns(gdf)"
   ]
  },
  {
   "attachments": {},
   "cell_type": "markdown",
   "metadata": {},
   "source": [
    "Nous devons convertir le geodataframe en objet featureCollection de GEE. Pour cela nous devons \"repasser\" les objets en geoJson, afin d'etre directement traduit dans l'objet GEE."
   ]
  },
  {
   "cell_type": "code",
   "execution_count": null,
   "metadata": {
    "ExecuteTime": {
     "end_time": "2023-04-03T15:40:33.105113Z",
     "start_time": "2023-04-03T15:39:35.001365Z"
    }
   },
   "outputs": [],
   "source": [
    "# Convertir GeoJSON en FeatureCollection GEE\n",
    "fc = ee.FeatureCollection(gdf.__geo_interface__)\n",
    "fc"
   ]
  },
  {
   "attachments": {},
   "cell_type": "markdown",
   "metadata": {},
   "source": [
    "Possible defaire la convertion avec geemap"
   ]
  },
  {
   "cell_type": "code",
   "execution_count": null,
   "metadata": {},
   "outputs": [],
   "source": [
    "fc = geemap.geopandas_to_ee(gdf)"
   ]
  },
  {
   "attachments": {},
   "cell_type": "markdown",
   "metadata": {},
   "source": [
    "Afficher les données sur une carte"
   ]
  },
  {
   "cell_type": "code",
   "execution_count": null,
   "metadata": {
    "ExecuteTime": {
     "end_time": "2023-04-03T15:58:07.878667Z",
     "start_time": "2023-04-03T15:56:23.310916Z"
    }
   },
   "outputs": [],
   "source": [
    "image = gfc\n",
    "bands = image.bandNames()\n",
    "bands.getInfo()\n",
    "\n",
    "bandList = bands.getInfo()[0]\n",
    "\n",
    "features_geom = fc\n",
    "\n",
    "\n",
    "coords =  features_geom.geometry().bounds().getInfo()['coordinates'][0]\n",
    "# palette de couleurs pour les bandes 2,3,4\n",
    "palette = {\n",
    "    'bands': bandList,\n",
    "    'min': 0.0,\n",
    "    'max': 100.0,\n",
    "    'gamma': [0.95]\n",
    "}\n",
    "\n",
    "# initialisation de la carte avec ajout des layers\n",
    "map = folium.Map(location=[-22.00, 166.00], zoom_start=8)\n",
    "map.add_ee_layer(image, palette,'Test')\n",
    "map.add_child(folium.GeoJson(data=features_geom.getInfo()))\n",
    "map.fit_bounds(bounds=[[coords[0][1], coords[0][0]], [coords[2][1], coords[2][0]]])\n",
    "\n",
    "display(map)"
   ]
  },
  {
   "attachments": {},
   "cell_type": "markdown",
   "metadata": {},
   "source": [
    "# Calculer les statistiques"
   ]
  },
  {
   "attachments": {},
   "cell_type": "markdown",
   "metadata": {},
   "source": [
    "## Full Cloud : A partir des Feature collection sur GEE"
   ]
  },
  {
   "attachments": {},
   "cell_type": "markdown",
   "metadata": {},
   "source": [
    "On peut combiner plusieurs réducteurs afin d'éviter de traiter chaque agrégateur indépendamment."
   ]
  },
  {
   "cell_type": "code",
   "execution_count": null,
   "metadata": {
    "ExecuteTime": {
     "end_time": "2023-04-03T16:08:53.612400Z",
     "start_time": "2023-04-03T16:08:52.812283Z"
    }
   },
   "outputs": [],
   "source": [
    "scale = image.projection().nominalScale().getInfo()\n",
    "features_geom = fc\n",
    "\n",
    "# Définissez l'agrégateur à utiliser\n",
    "reducer = ee.Reducer.min().combine(ee.Reducer.max(), sharedInputs=True)\n",
    "bands = ['treecover2000', 'loss', 'gain']\n",
    "# Appliquez l'agrégateur à chaque bande pour la FeatureCollection\n",
    "result = image.reduceRegions(\n",
    "  reducer = reducer,\n",
    "  collection = features_geom,\n",
    ")\n",
    "\n"
   ]
  },
  {
   "cell_type": "code",
   "execution_count": null,
   "metadata": {
    "ExecuteTime": {
     "end_time": "2023-04-03T16:09:58.065873Z",
     "start_time": "2023-04-03T16:08:56.289618Z"
    }
   },
   "outputs": [],
   "source": [
    "result"
   ]
  },
  {
   "attachments": {},
   "cell_type": "markdown",
   "metadata": {},
   "source": [
    "A la fin des calculs statistiques, il faut reconvertir les objets pour pouvoir les importer ensuite en base. "
   ]
  },
  {
   "cell_type": "code",
   "execution_count": null,
   "metadata": {
    "ExecuteTime": {
     "end_time": "2023-04-03T16:14:09.930925Z",
     "start_time": "2023-04-03T16:13:16.415002Z"
    }
   },
   "outputs": [],
   "source": [
    "from shapely.geometry import shape\n",
    "features = result.getInfo()['features']\n",
    "\n",
    "# Transformer la liste des entités géographiques en une liste de dictionnaires\n",
    "data = []\n",
    "for feature in features:\n",
    "    properties = feature['properties']\n",
    "    geometry = shape(feature['geometry'])\n",
    "    data.append(dict(properties, geometry=geometry))\n",
    "\n",
    "# Créer une série GeoPandas à partir de la liste de dictionnaires\n",
    "gdf = gpd.GeoDataFrame(data)\n",
    "gdf.set_crs(image.projection().getInfo()['crs'])\n",
    "gdf.shape\n",
    "gdf"
   ]
  },
  {
   "attachments": {},
   "cell_type": "markdown",
   "metadata": {},
   "source": [
    "Les temps de conversion  FC -> GDF sont assez long : 10 objets 50 sec"
   ]
  },
  {
   "cell_type": "code",
   "execution_count": null,
   "metadata": {},
   "outputs": [],
   "source": [
    "seuil = 30\n",
    "# Créer un masque pour les valeurs de pixel inférieures au seuil\n",
    "masque = gfc.gt(seuil)\n",
    "\n",
    "# Appliquer le masque à l'image\n",
    "image_filtree = gfc.updateMask(masque)\n",
    "# Agréger les valeurs de pixels sur les zones géographiques\n",
    "stats = image_filtree.reduceRegions(\n",
    "  collection=Poly,\n",
    "  reducer=ee.Reducer.mean(),\n",
    "  scale=30\n",
    ")"
   ]
  },
  {
   "attachments": {},
   "cell_type": "markdown",
   "metadata": {},
   "source": [
    "##  Localement sans l'API GEE (Numpy / rasterstat)"
   ]
  },
  {
   "attachments": {},
   "cell_type": "markdown",
   "metadata": {},
   "source": [
    "On télécharge des emprises de raster de petite taille, correspondant à l'emprise des données qui sous interesse et on calcul les statistiques complete avec la librairie Rasterstat."
   ]
  },
  {
   "attachments": {},
   "cell_type": "markdown",
   "metadata": {},
   "source": [
    "Cela nécessite de disposer d'un raster pour chaque géométrie (ou pour  un groupe de données proche spatialement), donc de convertir l'image GEE en numpy Array afin d'etre exploitable avec rasterio et ensuite traiter le raster avec rasterstat"
   ]
  },
  {
   "attachments": {},
   "cell_type": "markdown",
   "metadata": {},
   "source": [
    "C'est déjà cette méthode qui est employée aujourd'hui. il faut pour cela tester si le nombre de flux et d'interrogation à GEE ne seraient pas limités."
   ]
  },
  {
   "cell_type": "code",
   "execution_count": null,
   "metadata": {
    "ExecuteTime": {
     "end_time": "2023-04-03T16:16:48.693831Z",
     "start_time": "2023-04-03T16:15:57.231584Z"
    }
   },
   "outputs": [],
   "source": [
    "#samplegdf = gdf.sample(1)\n",
    "\n",
    "#samplegdf = gdf[(gdf['objectid']==1864)]\n",
    "samplegdf = gdf[(gdf['objectid']==1574)]\n",
    "#samplegdf = gdf[(gdf['objectid']==1715)]\n",
    "\n",
    "fc = gee.geopandas_to_ee(samplegdf)\n",
    "\n",
    "\n",
    "i = gfc.select(band['id']).sampleRectangle(region=fc)\n",
    "i"
   ]
  },
  {
   "cell_type": "code",
   "execution_count": null,
   "metadata": {},
   "outputs": [],
   "source": [
    "fc_ = geemap.ee_to_geopandas(ee.FeatureCollection([i]))\n"
   ]
  },
  {
   "cell_type": "code",
   "execution_count": null,
   "metadata": {},
   "outputs": [],
   "source": [
    "i.getInfo()"
   ]
  },
  {
   "cell_type": "code",
   "execution_count": null,
   "metadata": {},
   "outputs": [],
   "source": [
    "bbox = fc_.total_bounds\n",
    "xmin, ymin, xmax, ymax = fc_.total_bounds\n",
    "xmin, ymin, xmax, ymax"
   ]
  },
  {
   "cell_type": "code",
   "execution_count": null,
   "metadata": {},
   "outputs": [],
   "source": [
    "raster = np.array(i.get(band['id']).getInfo())\n",
    "raster"
   ]
  },
  {
   "attachments": {},
   "cell_type": "markdown",
   "metadata": {},
   "source": [
    "Cas particuliers avec les arrays ne correspondant pas à un shape sur 2 dimensions et plus d'une cellule."
   ]
  },
  {
   "attachments": {},
   "cell_type": "markdown",
   "metadata": {},
   "source": [
    "Nous avons besoin de definir la fonction Affine permettant de possitionner le tableau dans l'espace selon la projection initiale de l'image"
   ]
  },
  {
   "cell_type": "code",
   "execution_count": null,
   "metadata": {},
   "outputs": [],
   "source": [
    "# Définir les coordonnées du bounding box\n",
    "xmin, ymin, xmax, ymax = fc_.total_bounds\n",
    "\n",
    "# Définir les dimensions de l'image en pixels\n",
    "img_width, img_height = (raster.shape[1],raster.shape[0])\n",
    "\n",
    "# Calculer la résolution de l'image en pixels/mètre\n",
    "res_x = (xmax - xmin) / img_width\n",
    "res_y = (ymax - ymin) / img_height\n",
    "\n",
    "\n",
    "# Créer un objet transform à partir de la matrice affine\n",
    "transform = rasterio.transform.from_bounds(xmin, ymin, xmax, ymax, img_width, img_height)\n",
    "transform"
   ]
  },
  {
   "cell_type": "code",
   "execution_count": null,
   "metadata": {},
   "outputs": [],
   "source": [
    "transform.a, transform.b, transform.c, transform.d, transform.e, transform.f"
   ]
  },
  {
   "cell_type": "code",
   "execution_count": null,
   "metadata": {},
   "outputs": [],
   "source": [
    "affine_tuple = (transform.a, transform.b, transform.c, transform.d, transform.e, transform.f)\n",
    "r = geemap.numpy_to_ee(raster, crs='EPSG:4326',transform=affine_tuple)"
   ]
  },
  {
   "attachments": {},
   "cell_type": "markdown",
   "metadata": {},
   "source": [
    " Attention inversion / mirroir de l'image dû à une mauvaise conversion transform -> affine_tuple ou un bug de numpy_to_ee"
   ]
  },
  {
   "cell_type": "code",
   "execution_count": null,
   "metadata": {},
   "outputs": [],
   "source": [
    "Map = geemap.Map(center=[40,-100], zoom=4)\n",
    "Map.addLayer(gfc, {}, 'gfc name')\n",
    "Map.addLayer(r, {}, 'raster')\n",
    "Map.addLayer(i, {}, 'Layer name')\n",
    "Map.centerObject(i, zoom=18)\n",
    "Map"
   ]
  },
  {
   "attachments": {},
   "cell_type": "markdown",
   "metadata": {},
   "source": [
    "Pas d'inversion si on utilise transform de rasterio et affichage avec matplotlib"
   ]
  },
  {
   "attachments": {},
   "cell_type": "markdown",
   "metadata": {},
   "source": [
    "Attention au cas où le nombre de pixel = 1. Le numpy array ne peut pas être dessiné par matplotlib."
   ]
  },
  {
   "cell_type": "code",
   "execution_count": null,
   "metadata": {},
   "outputs": [],
   "source": [
    "\n",
    "fig, ax = plt.subplots(figsize=(10, 6))\n",
    "\n",
    "fc_.plot(ax=ax, color='red', alpha=0.5)\n",
    "show(raster, ax=ax, transform=transform, cmap='gray')\n",
    "\n",
    "plt.show()"
   ]
  },
  {
   "attachments": {},
   "cell_type": "markdown",
   "metadata": {},
   "source": [
    "On observe un problème majeur dans la conversion du Numpy en image. SampleRectangle ne renvois pas l'affine de l'image et nous devons donc la recalculer sur la base de la bbox mais les pixels peripherique ne sont pas forcement aligné à la bbox, donc nous avons des décalages entre les objets. "
   ]
  },
  {
   "attachments": {},
   "cell_type": "markdown",
   "metadata": {},
   "source": [
    "## Extraire un clip image et non un sampleRectangle pour calculer les statistiques"
   ]
  },
  {
   "cell_type": "code",
   "execution_count": null,
   "metadata": {},
   "outputs": [],
   "source": [
    "samplegdf = gdf[(gdf['objectid']==1574)]\n",
    "fc = geemap.geopandas_to_ee(samplegdf)\n",
    "\n",
    "\n",
    "i = gfc.select(band['id']).clip(fc)\n",
    "i"
   ]
  },
  {
   "cell_type": "code",
   "execution_count": null,
   "metadata": {},
   "outputs": [],
   "source": [
    "transform_from_im= i.select(band['id']).projection().getInfo()['transform']\n",
    "transform_from_im"
   ]
  },
  {
   "cell_type": "code",
   "execution_count": null,
   "metadata": {},
   "outputs": [],
   "source": [
    "samplegdf"
   ]
  },
  {
   "cell_type": "code",
   "execution_count": null,
   "metadata": {},
   "outputs": [],
   "source": [
    "Map = geemap.Map(center=[40,-100], zoom=4)\n",
    "Map.addLayer(i, {}, 'Layer name')\n",
    "Map.addLayer(fc, {}, 'feature')\n",
    "Map.centerObject(fc, zoom=18)\n",
    "Map"
   ]
  },
  {
   "cell_type": "code",
   "execution_count": null,
   "metadata": {},
   "outputs": [],
   "source": [
    "cliped = gee.ee_to_numpy(i, region=fc, default_value=255)"
   ]
  },
  {
   "cell_type": "code",
   "execution_count": null,
   "metadata": {},
   "outputs": [],
   "source": [
    "cliped.shape"
   ]
  },
  {
   "cell_type": "code",
   "execution_count": null,
   "metadata": {},
   "outputs": [],
   "source": [
    "cliped"
   ]
  },
  {
   "attachments": {},
   "cell_type": "markdown",
   "metadata": {},
   "source": [
    "Pour la suite il faut s'assurer que le numpy array soit bien en 2D."
   ]
  },
  {
   "cell_type": "code",
   "execution_count": null,
   "metadata": {},
   "outputs": [],
   "source": [
    "cliped = cliped.reshape(cliped.shape[0], (cliped.shape[1]*cliped.shape[2]))"
   ]
  },
  {
   "cell_type": "code",
   "execution_count": null,
   "metadata": {},
   "outputs": [],
   "source": [
    "raster = cliped\n",
    "# Définir les coordonnées du bounding box\n",
    "xmin, ymin, xmax, ymax = samplegdf.total_bounds\n",
    "\n",
    "# Définir les dimensions de l'image en pixels\n",
    "img_width, img_height = (raster.shape[1],raster.shape[0])\n",
    "\n",
    "# Calculer la résolution de l'image en pixels/mètre\n",
    "res_x = (xmax - xmin) / img_width\n",
    "res_y = (ymax - ymin) / img_height\n",
    "\n",
    "\n",
    "# Créer un objet transform à partir de la matrice affine\n",
    "transform = rasterio.transform.from_bounds(xmin, ymin, xmax, ymax, img_width, img_height)\n",
    "transform"
   ]
  },
  {
   "cell_type": "code",
   "execution_count": null,
   "metadata": {},
   "outputs": [],
   "source": [
    "fig, ax = plt.subplots(figsize=(50, 12))\n",
    "\n",
    "samplegdf.plot(ax=ax, edgecolor='blue', alpha=0.5)\n",
    "show(cliped, ax=ax, transform=transform)\n",
    "\n",
    "plt.show()"
   ]
  },
  {
   "attachments": {},
   "cell_type": "markdown",
   "metadata": {},
   "source": [
    "On perçoit que certains pixels ne sont pas \"repris\" sur certaine partie de la peripherie du polygon. se peut être lié à 2 chose : \n",
    "\n",
    "Les pixels ne sont pas pris si le perimètre ne passe pas en le centroïde de pixel mais sur la partie nord ils sont pourtant repris alors que le perimètre ne passe pas en leurs centroïdes.\n",
    "Il y a donc probablement aussi mais à verifier un leger décalage dû aux projections/reprojections/echelle. "
   ]
  },
  {
   "attachments": {
    "image-2.png": {
     "image/png": "[encoded data removed]"
    },
    "image.png": {
     "image/png": "[encoded data removed]"
    }
   },
   "cell_type": "markdown",
   "metadata": {},
   "source": [
    "lorsqu'on regarde dans GEE, on vois un décalage d'un pixel sur la pointe haute de l'objet \n",
    "\n",
    "![image.png](attachment:image.png) \n",
    "![image.png](attachment:image-2.png)"
   ]
  },
  {
   "cell_type": "code",
   "execution_count": null,
   "metadata": {},
   "outputs": [],
   "source": [
    "affine_tuple = (transform.a, transform.b, transform.c, transform.d, transform.e, transform.f)\n",
    "r = geemap.numpy_to_ee(cliped, crs='EPSG:4326',transform=affine_tuple)\n",
    "\n",
    "r"
   ]
  },
  {
   "attachments": {},
   "cell_type": "markdown",
   "metadata": {},
   "source": [
    "Encore une fois, attention le numpy transformé en GEE est en mirroir. Problème lié au transform. A ce stade ce n'est pas grave, mais cela montre qu'il y a un effort à faire si on souhaite traduire d'un Numpy en EE."
   ]
  },
  {
   "cell_type": "code",
   "execution_count": null,
   "metadata": {},
   "outputs": [],
   "source": [
    "fc = geemap.geopandas_to_ee(samplegdf)\n",
    "\n",
    "Map = geemap.Map(center=[40,-100], zoom=4)\n",
    "Map.addLayer(gfc,{}, 'gfc')\n",
    "Map.addLayer(r,{}, 'r')\n",
    "Map.addLayer(i,{}, 'i')\n",
    "Map.addLayer(fc,{}, 'fc')\n",
    "\n",
    "Map.centerObject(fc, zoom=18)\n",
    "Map"
   ]
  },
  {
   "cell_type": "code",
   "execution_count": null,
   "metadata": {},
   "outputs": [],
   "source": [
    "fc.getInfo()"
   ]
  },
  {
   "cell_type": "code",
   "execution_count": null,
   "metadata": {},
   "outputs": [],
   "source": [
    "!pip install rasterstats"
   ]
  },
  {
   "cell_type": "code",
   "execution_count": null,
   "metadata": {},
   "outputs": [],
   "source": [
    "import rasterstats as rs\n",
    "\n",
    "gdf= samplegdf\n",
    "raster = cliped\n",
    "\n",
    "rs.zonal_stats(gdf, raster, stats=['min', 'max', 'mean', 'median', 'std'], affine=transform, nodata=99,geojson_out=True,raster_out=True, all_touched=True)"
   ]
  },
  {
   "cell_type": "code",
   "execution_count": null,
   "metadata": {},
   "outputs": [],
   "source": [
    "transform"
   ]
  },
  {
   "cell_type": "code",
   "execution_count": null,
   "metadata": {},
   "outputs": [],
   "source": [
    "band['id']"
   ]
  },
  {
   "attachments": {},
   "cell_type": "markdown",
   "metadata": {},
   "source": [
    "### Optimisation avec fenetrage sur grille H3"
   ]
  },
  {
   "cell_type": "code",
   "execution_count": null,
   "metadata": {},
   "outputs": [],
   "source": [
    "import h3\n",
    "\n",
    "# Définir la résolution H3 souhaitée\n",
    "resolution_h3 = 5\n",
    "\n",
    "# Convertir les géométries du GeoDataFrame en hexagones H3\n",
    "gdf['hexagone_h3'] = gdf.geometry.apply(lambda x: h3.geo_to_h3(x.centroid.y, x.centroid.x, resolution_h3))\n",
    "\n",
    "# Grouper le GeoDataFrame par hexagone H3 et créer un GeoDataFrame d'emprises spatiales régulières\n",
    "emprises_spatiales = gdf.groupby('hexagone_h3')['geometry'].apply(lambda x: gpd.GeoSeries(x.tolist())).reset_index().rename(columns={'level_1':'dummy'})\n",
    "emprises_spatiales = emprises_spatiales[~emprises_spatiales['hexagone_h3'].duplicated()]\n",
    "emprises_spatiales"
   ]
  },
  {
   "cell_type": "code",
   "execution_count": null,
   "metadata": {},
   "outputs": [],
   "source": []
  }
 ],
 "metadata": {
  "kernelspec": {
   "display_name": "bilbo-packages",
   "language": "python",
   "name": "python3"
  },
  "language_info": {
   "codemirror_mode": {
    "name": "ipython",
    "version": 3
   },
   "file_extension": ".py",
   "mimetype": "text/x-python",
   "name": "python",
   "nbconvert_exporter": "python",
   "pygments_lexer": "ipython3",
   "version": "3.9.16"
  },
  "orig_nbformat": 4
 },
 "nbformat": 4,
 "nbformat_minor": 2
}
